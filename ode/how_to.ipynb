{
 "cells": [
  {
   "cell_type": "code",
   "execution_count": 3,
   "metadata": {},
   "outputs": [],
   "source": [
    "import numpy as np\n",
    "import matplotlib.pyplot as plt\n",
    "from sklearn.preprocessing import normalize\n",
    "import matplotlib as mpl\n",
    "import matplotlib.pylab as pl\n",
    "\n",
    "# Paper font style\n",
    "rc_fonts = {\n",
    "    'font.family': 'serif',\n",
    "    'figure.figsize': (10, 6),\n",
    "    'text.usetex': True,\n",
    "   # 'text.latex.preview': True,\n",
    "    'text.latex.preamble': r\"\\usepackage[cal=euler]{mathalfa} \\usepackage{libertine} \\usepackage[libertine,smallerops]{newtxmath} \\usepackage[T1]{fontenc}\"\n",
    "}\n",
    "\n",
    "mpl.rcParams.update(rc_fonts)"
   ]
  },
  {
   "cell_type": "markdown",
   "metadata": {},
   "source": [
    "### Import ode solver class"
   ]
  },
  {
   "cell_type": "code",
   "execution_count": 2,
   "metadata": {},
   "outputs": [],
   "source": [
    "from ode import ode"
   ]
  },
  {
   "cell_type": "markdown",
   "metadata": {},
   "source": [
    "### Parameters"
   ]
  },
  {
   "cell_type": "code",
   "execution_count": 3,
   "metadata": {},
   "outputs": [],
   "source": [
    "d_discr = 2000                     # Numerical discretization to solve ODEs: step = 1. / d_discr \n",
    "k = 4                              # Number of teacher hidden units  \n",
    "p = 8                              # Number of student hidden units \n",
    "noise = 1e-3                       # Noise level\n",
    "t_max = 1e4                        # Maximum t on the respective time scaling\n",
    "tol = 0                            # Stops if abs(pop_risk_t - pop_risk_{t-1}) <= tol. If zero, stops on alpha_max\n",
    "save_folder = 'results/ex_ode00/'  # Folder to save\n",
    "gamma_0 = p                        # Gamma zero"
   ]
  },
  {
   "cell_type": "markdown",
   "metadata": {},
   "source": [
    "#### Option 1: Matrices ${\\bf Q}^0$, ${\\bf M}^0$ and ${\\bf P}$ generated inside `ode` class before solving the ODEs"
   ]
  },
  {
   "cell_type": "code",
   "execution_count": 4,
   "metadata": {},
   "outputs": [
    {
     "name": "stdout",
     "output_type": "stream",
     "text": [
      "BLUE line: kappa + delta = 0\n",
      " \n",
      "time scaling:  d1.0000\n",
      "Initial conditions:\n",
      "Q0 externally informed: False\n",
      "M0 externally informed: False\n",
      "Teacher:\n",
      "P externally informed: False\n",
      "Committees normalized with 1/n and 1/k\n",
      "Teacher with additive output noise: y_t = f + sqrt(noise)*xi ; noise= 1e-03\n",
      "ddiscr= 2000, k= 4, p= 8, gamma_0= 8.0000, noise= 1e-03  -- j= 0, t= 0e+00, eg= 0.0612152926, time= 0.00\n",
      "ddiscr= 2000, k= 4, p= 8, gamma_0= 8.0000, noise= 1e-03  -- j= 2000, t= 1e+00, eg= 0.0374764319, time= 0.21\n",
      "ddiscr= 2000, k= 4, p= 8, gamma_0= 8.0000, noise= 1e-03  -- j= 4000, t= 2e+00, eg= 0.0234154435, time= 0.20\n",
      "ddiscr= 2000, k= 4, p= 8, gamma_0= 8.0000, noise= 1e-03  -- j= 6000, t= 3e+00, eg= 0.0151774653, time= 0.20\n",
      "ddiscr= 2000, k= 4, p= 8, gamma_0= 8.0000, noise= 1e-03  -- j= 8000, t= 4e+00, eg= 0.0103473784, time= 0.20\n",
      "ddiscr= 2000, k= 4, p= 8, gamma_0= 8.0000, noise= 1e-03  -- j= 10000, t= 5e+00, eg= 0.0075004966, time= 0.19\n",
      "ddiscr= 2000, k= 4, p= 8, gamma_0= 8.0000, noise= 1e-03  -- j= 12000, t= 6e+00, eg= 0.0058115987, time= 0.23\n",
      "ddiscr= 2000, k= 4, p= 8, gamma_0= 8.0000, noise= 1e-03  -- j= 14000, t= 7e+00, eg= 0.0048031751, time= 0.20\n",
      "ddiscr= 2000, k= 4, p= 8, gamma_0= 8.0000, noise= 1e-03  -- j= 16000, t= 8e+00, eg= 0.0041973413, time= 0.20\n",
      "ddiscr= 2000, k= 4, p= 8, gamma_0= 8.0000, noise= 1e-03  -- j= 18000, t= 9e+00, eg= 0.0038311366, time= 0.20\n",
      "ddiscr= 2000, k= 4, p= 8, gamma_0= 8.0000, noise= 1e-03  -- j= 20000, t= 1e+01, eg= 0.0036082684, time= 0.22\n",
      "ddiscr= 2000, k= 4, p= 8, gamma_0= 8.0000, noise= 1e-03  -- j= 40000, t= 2e+01, eg= 0.0032190722, time= 2.01\n",
      "ddiscr= 2000, k= 4, p= 8, gamma_0= 8.0000, noise= 1e-03  -- j= 60000, t= 3e+01, eg= 0.0031566657, time= 2.09\n",
      "ddiscr= 2000, k= 4, p= 8, gamma_0= 8.0000, noise= 1e-03  -- j= 80000, t= 4e+01, eg= 0.0031007020, time= 1.98\n",
      "ddiscr= 2000, k= 4, p= 8, gamma_0= 8.0000, noise= 1e-03  -- j= 100000, t= 5e+01, eg= 0.0030494943, time= 2.00\n",
      "ddiscr= 2000, k= 4, p= 8, gamma_0= 8.0000, noise= 1e-03  -- j= 120000, t= 6e+01, eg= 0.0030027644, time= 2.03\n",
      "ddiscr= 2000, k= 4, p= 8, gamma_0= 8.0000, noise= 1e-03  -- j= 140000, t= 7e+01, eg= 0.0029601925, time= 2.03\n",
      "ddiscr= 2000, k= 4, p= 8, gamma_0= 8.0000, noise= 1e-03  -- j= 160000, t= 8e+01, eg= 0.0029214582, time= 1.97\n",
      "ddiscr= 2000, k= 4, p= 8, gamma_0= 8.0000, noise= 1e-03  -- j= 180000, t= 9e+01, eg= 0.0028862485, time= 1.98\n",
      "ddiscr= 2000, k= 4, p= 8, gamma_0= 8.0000, noise= 1e-03  -- j= 200000, t= 1e+02, eg= 0.0028542618, time= 2.01\n",
      "ddiscr= 2000, k= 4, p= 8, gamma_0= 8.0000, noise= 1e-03  -- j= 400000, t= 2e+02, eg= 0.0026566775, time= 21.19\n",
      "ddiscr= 2000, k= 4, p= 8, gamma_0= 8.0000, noise= 1e-03  -- j= 600000, t= 3e+02, eg= 0.0025625492, time= 20.56\n",
      "ddiscr= 2000, k= 4, p= 8, gamma_0= 8.0000, noise= 1e-03  -- j= 800000, t= 4e+02, eg= 0.0024564020, time= 20.83\n",
      "ddiscr= 2000, k= 4, p= 8, gamma_0= 8.0000, noise= 1e-03  -- j= 1000000, t= 5e+02, eg= 0.0021799609, time= 21.03\n",
      "ddiscr= 2000, k= 4, p= 8, gamma_0= 8.0000, noise= 1e-03  -- j= 1200000, t= 6e+02, eg= 0.0016507296, time= 20.69\n",
      "ddiscr= 2000, k= 4, p= 8, gamma_0= 8.0000, noise= 1e-03  -- j= 1400000, t= 7e+02, eg= 0.0009585492, time= 21.05\n",
      "ddiscr= 2000, k= 4, p= 8, gamma_0= 8.0000, noise= 1e-03  -- j= 1600000, t= 8e+02, eg= 0.0004889028, time= 21.57\n",
      "ddiscr= 2000, k= 4, p= 8, gamma_0= 8.0000, noise= 1e-03  -- j= 1800000, t= 9e+02, eg= 0.0003184908, time= 22.03\n",
      "ddiscr= 2000, k= 4, p= 8, gamma_0= 8.0000, noise= 1e-03  -- j= 2000000, t= 1e+03, eg= 0.0002507297, time= 22.07\n",
      "ddiscr= 2000, k= 4, p= 8, gamma_0= 8.0000, noise= 1e-03  -- j= 4000000, t= 2e+03, eg= 0.0001346722, time= 238.75\n",
      "ddiscr= 2000, k= 4, p= 8, gamma_0= 8.0000, noise= 1e-03  -- j= 6000000, t= 3e+03, eg= 0.0001209048, time= 234.57\n",
      "ddiscr= 2000, k= 4, p= 8, gamma_0= 8.0000, noise= 1e-03  -- j= 8000000, t= 4e+03, eg= 0.0001173860, time= 241.61\n",
      "ddiscr= 2000, k= 4, p= 8, gamma_0= 8.0000, noise= 1e-03  -- j= 10000000, t= 5e+03, eg= 0.0001160851, time= 243.44\n",
      "ddiscr= 2000, k= 4, p= 8, gamma_0= 8.0000, noise= 1e-03  -- j= 12000000, t= 6e+03, eg= 0.0001154690, time= 214.32\n",
      "ddiscr= 2000, k= 4, p= 8, gamma_0= 8.0000, noise= 1e-03  -- j= 14000000, t= 7e+03, eg= 0.0001151269, time= 224.77\n",
      "ddiscr= 2000, k= 4, p= 8, gamma_0= 8.0000, noise= 1e-03  -- j= 16000000, t= 8e+03, eg= 0.0001149160, time= 277.65\n",
      "ddiscr= 2000, k= 4, p= 8, gamma_0= 8.0000, noise= 1e-03  -- j= 18000000, t= 9e+03, eg= 0.0001147763, time= 295.72\n",
      "ddiscr= 2000, k= 4, p= 8, gamma_0= 8.0000, noise= 1e-03  -- j= 20000000, t= 1e+04, eg= 0.0001146791, time= 257.83\n",
      "Terminating: alpha = 1e+04 (alpha_max)\n"
     ]
    }
   ],
   "source": [
    "kappa = 0                  # Hidden layer exponent \n",
    "delta = 0                  # Learning rate exponent\n",
    "\n",
    "odes = ode(d_discr,p,k)    # Initialize the class\n",
    "\n",
    "Q0 = odes.set_Q0()         # Gaussian uninformed initialization\n",
    "M0 = odes.set_M0()         # Gaussian random teacher\n",
    "P = odes.set_P()           # Sets P based on previous choices\n",
    "\n",
    "t0, eg0 = odes.fit(t_max= t_max, delta=delta, kappa=kappa, gamma_0=gamma_0, noise= noise, tol= tol, save_folder= save_folder)"
   ]
  },
  {
   "cell_type": "code",
   "execution_count": 5,
   "metadata": {},
   "outputs": [
    {
     "data": {
      "image/png": "[encoded data removed]",
      "text/plain": [
       "<Figure size 720x432 with 1 Axes>"
      ]
     },
     "metadata": {
      "needs_background": "light"
     },
     "output_type": "display_data"
    }
   ],
   "source": [
    "fig, ax = plt.subplots(figsize=(10, 6))\n",
    "\n",
    "lines =10\n",
    "colors = pl.cm.Blues_r(np.linspace(0,1,lines))\n",
    "col0=0\n",
    "\n",
    "ax.plot(t0, eg0, color=colors[col0+4], ls='-', label= '$\\Delta= 10^{-3}$', lw=2.5)\n",
    "ax.set_yscale('log')\n",
    "ax.set_xscale('log')\n",
    "ax.set_xlabel(r'$t = \\frac{\\nu}{d}$', fontsize= 25)\n",
    "ax.set_ylabel(r'${\\cal R}$', fontsize= 25)\n",
    "ax.legend(fontsize=16, loc=3)\n",
    "ax.tick_params(axis='y', labelsize=16)\n",
    "ax.tick_params(axis='x', labelsize=16)\n",
    "ax.grid(True)\n",
    "plt.show()"
   ]
  },
  {
   "cell_type": "code",
   "execution_count": null,
   "metadata": {},
   "outputs": [
    {
     "name": "stdout",
     "output_type": "stream",
     "text": [
      "GREEN region: kappa + delta > 0\n",
      " \n",
      "time scaling:  d1.5000\n",
      "Initial conditions:\n",
      "Q0 externally informed: False\n",
      "M0 externally informed: False\n",
      "Teacher:\n",
      "P externally informed: False\n",
      "Committees normalized with 1/n and 1/k\n",
      "Teacher with additive output noise: y_t = f + sqrt(noise)*xi ; noise= 1e-03\n",
      "ddiscr= 2000, k= 4, p= 8, gamma_0= 8.0000, noise= 1e-03  -- j= 0, t= 0e+00, eg= 0.0621333588, time= 0.00\n",
      "ddiscr= 2000, k= 4, p= 8, gamma_0= 8.0000, noise= 1e-03  -- j= 89442, t= 1e+00, eg= 0.0341951577, time= 1.00\n",
      "ddiscr= 2000, k= 4, p= 8, gamma_0= 8.0000, noise= 1e-03  -- j= 178885, t= 2e+00, eg= 0.0192262631, time= 1.09\n",
      "ddiscr= 2000, k= 4, p= 8, gamma_0= 8.0000, noise= 1e-03  -- j= 268328, t= 3e+00, eg= 0.0114465197, time= 1.59\n",
      "ddiscr= 2000, k= 4, p= 8, gamma_0= 8.0000, noise= 1e-03  -- j= 357770, t= 4e+00, eg= 0.0073914897, time= 1.07\n",
      "ddiscr= 2000, k= 4, p= 8, gamma_0= 8.0000, noise= 1e-03  -- j= 447213, t= 5e+00, eg= 0.0052453016, time= 0.98\n",
      "ddiscr= 2000, k= 4, p= 8, gamma_0= 8.0000, noise= 1e-03  -- j= 536656, t= 6e+00, eg= 0.0040883733, time= 1.06\n",
      "ddiscr= 2000, k= 4, p= 8, gamma_0= 8.0000, noise= 1e-03  -- j= 626099, t= 7e+00, eg= 0.0034531867, time= 1.38\n",
      "ddiscr= 2000, k= 4, p= 8, gamma_0= 8.0000, noise= 1e-03  -- j= 715541, t= 8e+00, eg= 0.0030981071, time= 1.12\n",
      "ddiscr= 2000, k= 4, p= 8, gamma_0= 8.0000, noise= 1e-03  -- j= 804984, t= 9e+00, eg= 0.0028958065, time= 1.25\n",
      "ddiscr= 2000, k= 4, p= 8, gamma_0= 8.0000, noise= 1e-03  -- j= 894427, t= 1e+01, eg= 0.0027779733, time= 1.01\n",
      "ddiscr= 2000, k= 4, p= 8, gamma_0= 8.0000, noise= 1e-03  -- j= 1788854, t= 2e+01, eg= 0.0025502136, time= 11.35\n",
      "ddiscr= 2000, k= 4, p= 8, gamma_0= 8.0000, noise= 1e-03  -- j= 2683281, t= 3e+01, eg= 0.0024741174, time= 11.56\n",
      "ddiscr= 2000, k= 4, p= 8, gamma_0= 8.0000, noise= 1e-03  -- j= 3577708, t= 4e+01, eg= 0.0024057842, time= 9.81\n",
      "ddiscr= 2000, k= 4, p= 8, gamma_0= 8.0000, noise= 1e-03  -- j= 4472135, t= 5e+01, eg= 0.0023441059, time= 9.81\n",
      "ddiscr= 2000, k= 4, p= 8, gamma_0= 8.0000, noise= 1e-03  -- j= 5366563, t= 6e+01, eg= 0.0022885478, time= 9.85\n",
      "ddiscr= 2000, k= 4, p= 8, gamma_0= 8.0000, noise= 1e-03  -- j= 6260990, t= 7e+01, eg= 0.0022385776, time= 9.69\n",
      "ddiscr= 2000, k= 4, p= 8, gamma_0= 8.0000, noise= 1e-03  -- j= 7155417, t= 8e+01, eg= 0.0021936756, time= 11.08\n",
      "ddiscr= 2000, k= 4, p= 8, gamma_0= 8.0000, noise= 1e-03  -- j= 8049844, t= 9e+01, eg= 0.0021533439, time= 13.30\n",
      "ddiscr= 2000, k= 4, p= 8, gamma_0= 8.0000, noise= 1e-03  -- j= 8944271, t= 1e+02, eg= 0.0021171130, time= 14.00\n",
      "ddiscr= 2000, k= 4, p= 8, gamma_0= 8.0000, noise= 1e-03  -- j= 17888543, t= 2e+02, eg= 0.0019000881, time= 129.83\n",
      "ddiscr= 2000, k= 4, p= 8, gamma_0= 8.0000, noise= 1e-03  -- j= 26832815, t= 3e+02, eg= 0.0017839193, time= 121.46\n",
      "ddiscr= 2000, k= 4, p= 8, gamma_0= 8.0000, noise= 1e-03  -- j= 35777087, t= 4e+02, eg= 0.0015748234, time= 103.52\n",
      "ddiscr= 2000, k= 4, p= 8, gamma_0= 8.0000, noise= 1e-03  -- j= 44721359, t= 5e+02, eg= 0.0010345507, time= 124.36\n",
      "ddiscr= 2000, k= 4, p= 8, gamma_0= 8.0000, noise= 1e-03  -- j= 53665631, t= 6e+02, eg= 0.0004744571, time= 117.79\n",
      "ddiscr= 2000, k= 4, p= 8, gamma_0= 8.0000, noise= 1e-03  -- j= 62609903, t= 7e+02, eg= 0.0001901989, time= 104.23\n"
     ]
    }
   ],
   "source": [
    "kappa = 0                  # Hidden layer exponent \n",
    "delta = 0.5                # Learning rate exponent\n",
    "\n",
    "odes = ode(d_discr,p,k)    # Initialize the class\n",
    "\n",
    "Q0 = odes.set_Q0()         # Gaussian uninformed initialization\n",
    "M0 = odes.set_M0()         # Gaussian random teacher\n",
    "P = odes.set_P()           # Sets P based on previous choices\n",
    "\n",
    "t1, eg1 = odes.fit(t_max= t_max, delta=delta, kappa=kappa, gamma_0= gamma_0, noise= noise, tol= tol, save_folder= save_folder)"
   ]
  },
  {
   "cell_type": "code",
   "execution_count": null,
   "metadata": {},
   "outputs": [],
   "source": [
    "fig, ax = plt.subplots(figsize=(10, 6))\n",
    "\n",
    "lines =10\n",
    "colors = pl.cm.Greens_r(np.linspace(0,1,lines))\n",
    "col0=0\n",
    "\n",
    "ax.plot(t1, eg1, color=colors[col0+4],ls='-', label= '$\\Delta= 10^{-3}$', lw=2.5)\n",
    "ax.set_yscale('log')\n",
    "ax.set_xscale('log')\n",
    "ax.set_xlabel(r'$t = \\frac{\\nu}{d}$', fontsize= 25)\n",
    "ax.set_ylabel(r'${\\cal R}$', fontsize= 25)\n",
    "ax.legend(fontsize=16, loc=3)\n",
    "ax.tick_params(axis='y', labelsize=16)\n",
    "ax.tick_params(axis='x', labelsize=16)\n",
    "ax.grid(True)\n",
    "plt.show()"
   ]
  },
  {
   "cell_type": "markdown",
   "metadata": {},
   "source": [
    "#### Option 2: External input for ${\\bf Q}^0$, ${\\bf M}^0$ and ${\\bf P}$ "
   ]
  },
  {
   "cell_type": "code",
   "execution_count": null,
   "metadata": {},
   "outputs": [],
   "source": [
    "kappa = 0                  # Hidden layer exponent \n",
    "delta = 0.5                # Learning rate exponent\n",
    "\n",
    "odes = ode(d_discr,p,k)    # Initialize the class\n",
    "\n",
    "\n",
    "'''Load W0 and Wt to construct the respectives Q0, M0 and P'''\n",
    "d_init = 100\n",
    "id_ = 'Wt_W0_d%d_p%s_k%s_sit01.npz' % (d_init,'{:03}'.format(p),'{:03}'.format(k))\n",
    "file_path_id = '../sim/Wt_W0'\n",
    "file_path = file_path_id_ + '/' + id_\n",
    "data = np.load(file_path)\n",
    "\n",
    "W0 = data['W0']\n",
    "Wt = data['Wt']\n",
    "Q0 = W0 @ W0.T / d_init\n",
    "M0 = W0 @ Wt.T / d_init\n",
    "P = Wt @ Wt.T / d_init\n",
    "\n",
    "\n",
    "odes.set_Q0(Q0)         # Externally informed Q0\n",
    "odes.set_M0(M0)         # Gaussian random teacher\n",
    "odes.set_P(P)           # Sets P based on previous choices\n",
    "\n",
    "t2, eg2 = odes.fit(t_max= t_max, delta=delta, kappa=kappa, gamma_0= gamma_0, noise= noise, tol= tol, save_folder= save_folder)"
   ]
  },
  {
   "cell_type": "code",
   "execution_count": null,
   "metadata": {},
   "outputs": [],
   "source": [
    "fig, ax = plt.subplots(figsize=(10, 6))\n",
    "\n",
    "lines =10\n",
    "colors = pl.cm.Greens_r(np.linspace(0,1,lines))\n",
    "col0=0\n",
    "\n",
    "ax.plot(t2, eg2, color=colors[col0+4], marker='^', ls='', label= '$\\Delta= 10^{-3}$', ms = 8, mew = 2)\n",
    "ax.set_yscale('log')\n",
    "ax.set_xscale('log')\n",
    "ax.set_xlabel(r'$t = \\frac{\\nu}{d}$', fontsize= 25)\n",
    "ax.set_ylabel(r'${\\cal R}$', fontsize= 25)\n",
    "ax.legend(fontsize=16, loc=3)\n",
    "ax.tick_params(axis='y', labelsize=16)\n",
    "ax.tick_params(axis='x', labelsize=16)\n",
    "ax.grid(True)\n",
    "plt.show()"
   ]
  },
  {
   "cell_type": "code",
   "execution_count": 15,
   "metadata": {},
   "outputs": [
    {
     "name": "stdout",
     "output_type": "stream",
     "text": [
      "BLUE line: kappa + delta = 0\n",
      "alpha_scale:  d1.0000\n",
      "Committees normalized with 1/n and 1/k\n",
      "Wt orthogonal\n",
      "W0 linear combination of Wt\n",
      "Teacher with additive output noise: y_t = f + sqrt(noise)*xi ; noise= 1e-03\n",
      "d= 100, k= 4, n= 8, eta= 8.000, noise= 1e-03 -- j= 0, alpha= 0e+00, eg= 0.0772056003, time= 0.00\n",
      "d = 100, k = 4, n = 8, eta = 8.000, noise= 1e-03 -- j = 100, alpha = 1e+00, eg = 0.0496956034, time = 36.63\n",
      "d = 100, k = 4, n = 8, eta = 8.000, noise= 1e-03 -- j = 200, alpha = 2e+00, eg = 0.0310340415, time = 0.33\n",
      "d = 100, k = 4, n = 8, eta = 8.000, noise= 1e-03 -- j = 300, alpha = 3e+00, eg = 0.0188059780, time = 0.35\n",
      "d = 100, k = 4, n = 8, eta = 8.000, noise= 1e-03 -- j = 400, alpha = 4e+00, eg = 0.0132794173, time = 0.34\n",
      "d = 100, k = 4, n = 8, eta = 8.000, noise= 1e-03 -- j = 500, alpha = 5e+00, eg = 0.0097431033, time = 0.38\n",
      "d = 100, k = 4, n = 8, eta = 8.000, noise= 1e-03 -- j = 600, alpha = 6e+00, eg = 0.0064296986, time = 0.33\n",
      "d = 100, k = 4, n = 8, eta = 8.000, noise= 1e-03 -- j = 700, alpha = 7e+00, eg = 0.0044432547, time = 0.34\n",
      "d = 100, k = 4, n = 8, eta = 8.000, noise= 1e-03 -- j = 800, alpha = 8e+00, eg = 0.0037711814, time = 0.33\n",
      "d = 100, k = 4, n = 8, eta = 8.000, noise= 1e-03 -- j = 900, alpha = 9e+00, eg = 0.0030720585, time = 0.33\n",
      "d = 100, k = 4, n = 8, eta = 8.000, noise= 1e-03 -- j = 1000, alpha = 1e+01, eg = 0.0026257902, time = 0.33\n",
      "d = 100, k = 4, n = 8, eta = 8.000, noise= 1e-03 -- j = 2000, alpha = 2e+01, eg = 0.0017889667, time = 0.68\n",
      "d = 100, k = 4, n = 8, eta = 8.000, noise= 1e-03 -- j = 3000, alpha = 3e+01, eg = 0.0015770167, time = 0.67\n",
      "d = 100, k = 4, n = 8, eta = 8.000, noise= 1e-03 -- j = 4000, alpha = 4e+01, eg = 0.0013858770, time = 0.66\n",
      "d = 100, k = 4, n = 8, eta = 8.000, noise= 1e-03 -- j = 5000, alpha = 5e+01, eg = 0.0011595371, time = 0.66\n",
      "d = 100, k = 4, n = 8, eta = 8.000, noise= 1e-03 -- j = 6000, alpha = 6e+01, eg = 0.0010433188, time = 0.65\n",
      "d = 100, k = 4, n = 8, eta = 8.000, noise= 1e-03 -- j = 7000, alpha = 7e+01, eg = 0.0009865044, time = 0.73\n",
      "d = 100, k = 4, n = 8, eta = 8.000, noise= 1e-03 -- j = 8000, alpha = 8e+01, eg = 0.0008356033, time = 0.82\n",
      "d = 100, k = 4, n = 8, eta = 8.000, noise= 1e-03 -- j = 9000, alpha = 9e+01, eg = 0.0007475084, time = 0.79\n",
      "d = 100, k = 4, n = 8, eta = 8.000, noise= 1e-03 -- j = 10000, alpha = 1e+02, eg = 0.0006891818, time = 0.74\n",
      "d = 100, k = 4, n = 8, eta = 8.000, noise= 1e-03 -- j = 20000, alpha = 2e+02, eg = 0.0003377966, time = 4.20\n",
      "d = 100, k = 4, n = 8, eta = 8.000, noise= 1e-03 -- j = 30000, alpha = 3e+02, eg = 0.0001952801, time = 4.02\n",
      "d = 100, k = 4, n = 8, eta = 8.000, noise= 1e-03 -- j = 40000, alpha = 4e+02, eg = 0.0001540548, time = 4.06\n",
      "d = 100, k = 4, n = 8, eta = 8.000, noise= 1e-03 -- j = 50000, alpha = 5e+02, eg = 0.0001277588, time = 4.13\n",
      "d = 100, k = 4, n = 8, eta = 8.000, noise= 1e-03 -- j = 60000, alpha = 6e+02, eg = 0.0001353283, time = 4.90\n",
      "d = 100, k = 4, n = 8, eta = 8.000, noise= 1e-03 -- j = 70000, alpha = 7e+02, eg = 0.0001301078, time = 4.70\n",
      "d = 100, k = 4, n = 8, eta = 8.000, noise= 1e-03 -- j = 80000, alpha = 8e+02, eg = 0.0001317280, time = 4.07\n",
      "d = 100, k = 4, n = 8, eta = 8.000, noise= 1e-03 -- j = 90000, alpha = 9e+02, eg = 0.0001255941, time = 4.78\n",
      "d = 100, k = 4, n = 8, eta = 8.000, noise= 1e-03 -- j = 100000, alpha = 1e+03, eg = 0.0001487133, time = 4.85\n",
      "d = 100, k = 4, n = 8, eta = 8.000, noise= 1e-03 -- j = 200000, alpha = 2e+03, eg = 0.0001101884, time = 44.89\n",
      "d = 100, k = 4, n = 8, eta = 8.000, noise= 1e-03 -- j = 300000, alpha = 3e+03, eg = 0.0001411840, time = 42.32\n",
      "d = 100, k = 4, n = 8, eta = 8.000, noise= 1e-03 -- j = 400000, alpha = 4e+03, eg = 0.0001094445, time = 43.09\n",
      "d = 100, k = 4, n = 8, eta = 8.000, noise= 1e-03 -- j = 500000, alpha = 5e+03, eg = 0.0001066774, time = 41.51\n",
      "d = 100, k = 4, n = 8, eta = 8.000, noise= 1e-03 -- j = 600000, alpha = 6e+03, eg = 0.0000974110, time = 40.55\n",
      "d = 100, k = 4, n = 8, eta = 8.000, noise= 1e-03 -- j = 700000, alpha = 7e+03, eg = 0.0001333031, time = 41.53\n",
      "d = 100, k = 4, n = 8, eta = 8.000, noise= 1e-03 -- j = 800000, alpha = 8e+03, eg = 0.0001261680, time = 38.86\n",
      "d = 100, k = 4, n = 8, eta = 8.000, noise= 1e-03 -- j = 900000, alpha = 9e+03, eg = 0.0001197866, time = 39.16\n",
      "d = 100, k = 4, n = 8, eta = 8.000, noise= 1e-03 -- j = 1000000, alpha = 1e+04, eg = 0.0001222883, time = 41.12\n",
      "Terminating: alpha = 1e+04 (alpha_max)\n"
     ]
    }
   ],
   "source": [
    "kappa = 0                                                          # Hidden layer exponent \n",
    "delta = 0                                                          # Learning rate exponent\n",
    "\n",
    "odes = ode(d_discr,p,k)    # Initialize the class\n",
    "\n",
    "\n",
    "'''Load W0 and Wt to construct the respectives Q0, M0 and P'''\n",
    "d_init = 100\n",
    "id_ = 'Wt_W0_d%d_p%s_k%s_sit01.npz' % (d_init,'{:03}'.format(p),'{:03}'.format(k))\n",
    "file_path_id = '../sim/Wt_W0'\n",
    "file_path = file_path_id_ + '/' + id_\n",
    "data = np.load(file_path)\n",
    "\n",
    "W0 = data['W0']\n",
    "Wt = data['Wt']\n",
    "Q0 = W0 @ W0.T / d_init\n",
    "M0 = W0 @ Wt.T / d_init\n",
    "P = Wt @ Wt.T / d_init\n",
    "\n",
    "\n",
    "odes.set_Q0(Q0)         # Externally informed Q0\n",
    "odes.set_M0(M0)         # Gaussian random teacher\n",
    "odes.set_P(P)           # Sets P based on previous choices\n",
    "\n",
    "t3, eg3 = odes.fit(t_max= t_max, delta=delta, kappa=kappa, gamma_0= gamma_0, noise= noise, tol= tol, save_folder= save_folder)"
   ]
  },
  {
   "cell_type": "code",
   "execution_count": 16,
   "metadata": {},
   "outputs": [
    {
     "data": {
      "image/png": "[encoded data removed]",
      "text/plain": [
       "<Figure size 720x432 with 1 Axes>"
      ]
     },
     "metadata": {
      "needs_background": "light"
     },
     "output_type": "display_data"
    }
   ],
   "source": [
    "fig, ax = plt.subplots(figsize=(10, 6))\n",
    "\n",
    "lines =10\n",
    "colors = pl.cm.Blues_r(np.linspace(0,1,lines))\n",
    "col0=0\n",
    "\n",
    "ax.plot(t3, eg3, color=colors[col0+4], marker='', label= '$\\Delta= 10^{-3}$', lw= 2.5)\n",
    "ax.set_yscale('log')\n",
    "ax.set_xscale('log')\n",
    "ax.set_xlabel(r'$t = \\frac{\\nu}{d}$', fontsize= 25)\n",
    "ax.set_ylabel(r'${\\cal R}$', fontsize= 25)\n",
    "ax.legend(fontsize=16, loc=3)\n",
    "ax.tick_params(axis='y', labelsize=16)\n",
    "ax.tick_params(axis='x', labelsize=16)\n",
    "ax.grid(True)\n",
    "plt.show()"
   ]
  },
  {
   "cell_type": "code",
   "execution_count": null,
   "metadata": {},
   "outputs": [],
   "source": []
  }
 ],
 "metadata": {
  "kernelspec": {
   "display_name": "Python 3.8.5 64-bit ('anaconda3': virtualenv)",
   "language": "python",
   "name": "python385jvsc74a57bd055f1c31c9ec88ecd0138ba008a06445b3495182e663e08d0be129519e756f673"
  },
  "language_info": {
   "codemirror_mode": {
    "name": "ipython",
    "version": 3
   },
   "file_extension": ".py",
   "mimetype": "text/x-python",
   "name": "python",
   "nbconvert_exporter": "python",
   "pygments_lexer": "ipython3",
   "version": "3.8.5"
  }
 },
 "nbformat": 4,
 "nbformat_minor": 4
}
