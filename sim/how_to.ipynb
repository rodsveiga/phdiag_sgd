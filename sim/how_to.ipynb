{
 "cells": [
  {
   "cell_type": "code",
   "execution_count": 2,
   "metadata": {},
   "outputs": [],
   "source": [
    "import numpy as np\n",
    "import matplotlib.pyplot as plt\n",
    "from sklearn.preprocessing import normalize\n",
    "import matplotlib as mpl\n",
    "import matplotlib.pylab as pl\n",
    "\n",
    "# Paper font style\n",
    "rc_fonts = {\n",
    "    'font.family': 'serif',\n",
    "    'figure.figsize': (10, 6),\n",
    "    'text.usetex': True,\n",
    "    'text.latex.preview': True,\n",
    "    'text.latex.preamble': r\"\\usepackage[cal=euler]{mathalfa} \\usepackage{libertine} \\usepackage[libertine,smallerops]{newtxmath} \\usepackage[T1]{fontenc}\"\n",
    "}\n",
    "\n",
    "mpl.rcParams.update(rc_fonts)"
   ]
  },
  {
   "cell_type": "markdown",
   "metadata": {},
   "source": [
    "### Import simulation class"
   ]
  },
  {
   "cell_type": "code",
   "execution_count": 3,
   "metadata": {},
   "outputs": [],
   "source": [
    "from sim import sim"
   ]
  },
  {
   "cell_type": "markdown",
   "metadata": {},
   "source": [
    "### Parameters"
   ]
  },
  {
   "cell_type": "code",
   "execution_count": 4,
   "metadata": {},
   "outputs": [],
   "source": [
    "d = 100                            # Number of input units \n",
    "k = 4                              # Number of teacher hidden units  \n",
    "p = 8                              # Number of student hidden units \n",
    "noise = 1e-3                       # Noise level\n",
    "t_max = 1e4                        # Maximum t on the respective time scaling\n",
    "tol = 0                            # Stops if abs(pop_risk_t - pop_risk_{t-1}) <= tol. If zero, stops on alpha_max\n",
    "save_folder = 'results/ex_sim00/'  # Folder to save\n",
    "gamma_0 = p                        # Gamma zero"
   ]
  },
  {
   "cell_type": "markdown",
   "metadata": {},
   "source": [
    "#### Option 1: Teacher matrix ${\\bf W}^*$ and student initialization ${\\bf W}^0$ generated inside `sim` class before simulation"
   ]
  },
  {
   "cell_type": "code",
   "execution_count": 5,
   "metadata": {},
   "outputs": [
    {
     "name": "stdout",
     "output_type": "stream",
     "text": [
      "BLUE line: kappa + delta = 0\n",
      "alpha_scale:  d1.0000\n",
      "Committees normalized with 1/n and 1/k\n",
      "Wt orthogonal\n",
      "Teacher with additive output noise: y_t = f + sqrt(noise)*xi ; noise= 1e-03\n",
      "d= 100, k= 4, n= 8, eta= 8.000, noise= 1e-03 -- j= 0, alpha= 0e+00, eg= 0.0716306473, time= 0.00\n",
      "d = 100, k = 4, n = 8, eta = 8.000, noise= 1e-03 -- j = 100, alpha = 1e+00, eg = 0.0470076316, time = 35.16\n",
      "d = 100, k = 4, n = 8, eta = 8.000, noise= 1e-03 -- j = 200, alpha = 2e+00, eg = 0.0283482642, time = 0.32\n",
      "d = 100, k = 4, n = 8, eta = 8.000, noise= 1e-03 -- j = 300, alpha = 3e+00, eg = 0.0173048146, time = 0.36\n",
      "d = 100, k = 4, n = 8, eta = 8.000, noise= 1e-03 -- j = 400, alpha = 4e+00, eg = 0.0110105761, time = 0.42\n",
      "d = 100, k = 4, n = 8, eta = 8.000, noise= 1e-03 -- j = 500, alpha = 5e+00, eg = 0.0082232043, time = 0.43\n",
      "d = 100, k = 4, n = 8, eta = 8.000, noise= 1e-03 -- j = 600, alpha = 6e+00, eg = 0.0064438330, time = 0.36\n",
      "d = 100, k = 4, n = 8, eta = 8.000, noise= 1e-03 -- j = 700, alpha = 7e+00, eg = 0.0053414213, time = 0.32\n",
      "d = 100, k = 4, n = 8, eta = 8.000, noise= 1e-03 -- j = 800, alpha = 8e+00, eg = 0.0045948531, time = 0.32\n",
      "d = 100, k = 4, n = 8, eta = 8.000, noise= 1e-03 -- j = 900, alpha = 9e+00, eg = 0.0040292172, time = 0.32\n",
      "d = 100, k = 4, n = 8, eta = 8.000, noise= 1e-03 -- j = 1000, alpha = 1e+01, eg = 0.0037394168, time = 0.32\n",
      "d = 100, k = 4, n = 8, eta = 8.000, noise= 1e-03 -- j = 2000, alpha = 2e+01, eg = 0.0031967089, time = 0.72\n",
      "d = 100, k = 4, n = 8, eta = 8.000, noise= 1e-03 -- j = 3000, alpha = 3e+01, eg = 0.0029963763, time = 0.72\n",
      "d = 100, k = 4, n = 8, eta = 8.000, noise= 1e-03 -- j = 4000, alpha = 4e+01, eg = 0.0030679213, time = 0.64\n",
      "d = 100, k = 4, n = 8, eta = 8.000, noise= 1e-03 -- j = 5000, alpha = 5e+01, eg = 0.0028630853, time = 0.73\n",
      "d = 100, k = 4, n = 8, eta = 8.000, noise= 1e-03 -- j = 6000, alpha = 6e+01, eg = 0.0028080488, time = 0.71\n",
      "d = 100, k = 4, n = 8, eta = 8.000, noise= 1e-03 -- j = 7000, alpha = 7e+01, eg = 0.0026855919, time = 0.82\n",
      "d = 100, k = 4, n = 8, eta = 8.000, noise= 1e-03 -- j = 8000, alpha = 8e+01, eg = 0.0027464651, time = 0.89\n",
      "d = 100, k = 4, n = 8, eta = 8.000, noise= 1e-03 -- j = 9000, alpha = 9e+01, eg = 0.0028357318, time = 0.71\n",
      "d = 100, k = 4, n = 8, eta = 8.000, noise= 1e-03 -- j = 10000, alpha = 1e+02, eg = 0.0028139784, time = 0.70\n",
      "d = 100, k = 4, n = 8, eta = 8.000, noise= 1e-03 -- j = 20000, alpha = 2e+02, eg = 0.0023068310, time = 4.04\n",
      "d = 100, k = 4, n = 8, eta = 8.000, noise= 1e-03 -- j = 30000, alpha = 3e+02, eg = 0.0018010643, time = 4.45\n",
      "d = 100, k = 4, n = 8, eta = 8.000, noise= 1e-03 -- j = 40000, alpha = 4e+02, eg = 0.0009966019, time = 4.17\n",
      "d = 100, k = 4, n = 8, eta = 8.000, noise= 1e-03 -- j = 50000, alpha = 5e+02, eg = 0.0004943769, time = 4.05\n",
      "d = 100, k = 4, n = 8, eta = 8.000, noise= 1e-03 -- j = 60000, alpha = 6e+02, eg = 0.0003040449, time = 3.92\n",
      "d = 100, k = 4, n = 8, eta = 8.000, noise= 1e-03 -- j = 70000, alpha = 7e+02, eg = 0.0002341323, time = 4.12\n",
      "d = 100, k = 4, n = 8, eta = 8.000, noise= 1e-03 -- j = 80000, alpha = 8e+02, eg = 0.0002027618, time = 4.14\n",
      "d = 100, k = 4, n = 8, eta = 8.000, noise= 1e-03 -- j = 90000, alpha = 9e+02, eg = 0.0001903941, time = 4.37\n",
      "d = 100, k = 4, n = 8, eta = 8.000, noise= 1e-03 -- j = 100000, alpha = 1e+03, eg = 0.0001846268, time = 4.68\n",
      "d = 100, k = 4, n = 8, eta = 8.000, noise= 1e-03 -- j = 200000, alpha = 2e+03, eg = 0.0001334330, time = 41.25\n",
      "d = 100, k = 4, n = 8, eta = 8.000, noise= 1e-03 -- j = 300000, alpha = 3e+03, eg = 0.0001052942, time = 38.48\n",
      "d = 100, k = 4, n = 8, eta = 8.000, noise= 1e-03 -- j = 400000, alpha = 4e+03, eg = 0.0000939121, time = 44.27\n",
      "d = 100, k = 4, n = 8, eta = 8.000, noise= 1e-03 -- j = 500000, alpha = 5e+03, eg = 0.0001164831, time = 44.04\n",
      "d = 100, k = 4, n = 8, eta = 8.000, noise= 1e-03 -- j = 600000, alpha = 6e+03, eg = 0.0001130852, time = 46.08\n",
      "d = 100, k = 4, n = 8, eta = 8.000, noise= 1e-03 -- j = 700000, alpha = 7e+03, eg = 0.0000892660, time = 39.45\n",
      "d = 100, k = 4, n = 8, eta = 8.000, noise= 1e-03 -- j = 800000, alpha = 8e+03, eg = 0.0001227875, time = 41.99\n",
      "d = 100, k = 4, n = 8, eta = 8.000, noise= 1e-03 -- j = 900000, alpha = 9e+03, eg = 0.0001140142, time = 38.62\n",
      "d = 100, k = 4, n = 8, eta = 8.000, noise= 1e-03 -- j = 1000000, alpha = 1e+04, eg = 0.0000988992, time = 41.41\n",
      "Terminating: alpha = 1e+04 (alpha_max)\n"
     ]
    }
   ],
   "source": [
    "kappa = 0                              # Hidden layer exponent \n",
    "delta = 0                              # Learning rate exponent\n",
    "\n",
    "simul = sim(d,p,k)                      # Initialize the class\n",
    "Wt = simul.set_teacher(orthWt= True)    # orthWt: whether the teacher is delta_{rs} or not\n",
    "W0 = simul.set_W0()                     # Gaussian uninformed initialization\n",
    "\n",
    "t, eg, Wf, _ = simul.fit(alpha_max= t_max, delta=delta, kappa=kappa, eta0= gamma_0, noise= noise, tol= tol, save_folder= save_folder)\n",
    "\n",
    "\n",
    "'''If necessary to compare with ODEs, save W0 and Wt to construct the respectives Q0, M0 and P'''\n",
    "#id_ = 'Wt_W0_d%d_p%s_k%s_sit00.npz' % (d,'{:03}'.format(p),'{:03}'.format(k))\n",
    "#dict_save = {'Wt':Wt, 'W0': W0}\n",
    "#file_path_id = '/Wt_W0'\n",
    "#file_path = file_path_id_ + '/' + id_\n",
    "#np.savez(file_path, **dict_save)"
   ]
  },
  {
   "cell_type": "code",
   "execution_count": null,
   "metadata": {},
   "outputs": [],
   "source": []
  },
  {
   "cell_type": "code",
   "execution_count": 6,
   "metadata": {},
   "outputs": [
    {
     "data": {
      "image/png": "[encoded data removed]",
      "text/plain": [
       "<Figure size 720x432 with 1 Axes>"
      ]
     },
     "metadata": {
      "needs_background": "light"
     },
     "output_type": "display_data"
    }
   ],
   "source": [
    "fig, ax = plt.subplots(figsize=(10, 6))\n",
    "\n",
    "lines =10\n",
    "colors = pl.cm.Blues_r(np.linspace(0,1,lines))\n",
    "col0=0\n",
    "\n",
    "ax.plot(t, eg, color=colors[col0+4], marker='^', ls='', label= '$\\Delta= 10^{-3}$', ms = 8, mew = 2)\n",
    "ax.set_yscale('log')\n",
    "ax.set_xscale('log')\n",
    "ax.set_xlabel(r'$t = \\frac{\\nu}{d}$', fontsize= 25)\n",
    "ax.set_ylabel(r'${\\cal R}$', fontsize= 25)\n",
    "ax.legend(fontsize=16, loc=3)\n",
    "ax.tick_params(axis='y', labelsize=16)\n",
    "ax.tick_params(axis='x', labelsize=16)\n",
    "ax.grid(True)\n",
    "plt.show()"
   ]
  },
  {
   "cell_type": "code",
   "execution_count": 17,
   "metadata": {},
   "outputs": [
    {
     "name": "stdout",
     "output_type": "stream",
     "text": [
      "GREEN region: kappa + delta > 0\n",
      "alpha_scale:  d1.5000\n",
      "Committees normalized with 1/n and 1/k\n",
      "Wt orthogonal\n",
      "Teacher with additive output noise: y_t = f + sqrt(noise)*xi ; noise= 1e-03\n",
      "d= 100, k= 4, n= 8, eta= 0.800, noise= 1e-03 -- j= 0, alpha= 0e+00, eg= 0.0626229721, time= 0.00\n",
      "d = 100, k = 4, n = 8, eta = 0.800, noise= 1e-03 -- j = 1000, alpha = 1e+00, eg = 0.0353063335, time = 36.91\n",
      "d = 100, k = 4, n = 8, eta = 0.800, noise= 1e-03 -- j = 2000, alpha = 2e+00, eg = 0.0195965421, time = 0.72\n",
      "d = 100, k = 4, n = 8, eta = 0.800, noise= 1e-03 -- j = 3000, alpha = 3e+00, eg = 0.0116115890, time = 0.76\n",
      "d = 100, k = 4, n = 8, eta = 0.800, noise= 1e-03 -- j = 4000, alpha = 4e+00, eg = 0.0075009911, time = 0.66\n",
      "d = 100, k = 4, n = 8, eta = 0.800, noise= 1e-03 -- j = 5000, alpha = 5e+00, eg = 0.0052848241, time = 0.66\n",
      "d = 100, k = 4, n = 8, eta = 0.800, noise= 1e-03 -- j = 6000, alpha = 6e+00, eg = 0.0041045435, time = 0.69\n",
      "d = 100, k = 4, n = 8, eta = 0.800, noise= 1e-03 -- j = 7000, alpha = 7e+00, eg = 0.0034135620, time = 0.69\n",
      "d = 100, k = 4, n = 8, eta = 0.800, noise= 1e-03 -- j = 8000, alpha = 8e+00, eg = 0.0030474049, time = 0.70\n",
      "d = 100, k = 4, n = 8, eta = 0.800, noise= 1e-03 -- j = 9000, alpha = 9e+00, eg = 0.0028884050, time = 0.68\n",
      "d = 100, k = 4, n = 8, eta = 0.800, noise= 1e-03 -- j = 10000, alpha = 1e+01, eg = 0.0027548362, time = 0.67\n",
      "d = 100, k = 4, n = 8, eta = 0.800, noise= 1e-03 -- j = 20000, alpha = 2e+01, eg = 0.0025293965, time = 4.29\n",
      "d = 100, k = 4, n = 8, eta = 0.800, noise= 1e-03 -- j = 30000, alpha = 3e+01, eg = 0.0024505908, time = 5.11\n",
      "d = 100, k = 4, n = 8, eta = 0.800, noise= 1e-03 -- j = 40000, alpha = 4e+01, eg = 0.0023808635, time = 4.57\n",
      "d = 100, k = 4, n = 8, eta = 0.800, noise= 1e-03 -- j = 50000, alpha = 5e+01, eg = 0.0023003357, time = 4.37\n",
      "d = 100, k = 4, n = 8, eta = 0.800, noise= 1e-03 -- j = 60000, alpha = 6e+01, eg = 0.0022484260, time = 4.56\n",
      "d = 100, k = 4, n = 8, eta = 0.800, noise= 1e-03 -- j = 70000, alpha = 7e+01, eg = 0.0021871008, time = 4.24\n",
      "d = 100, k = 4, n = 8, eta = 0.800, noise= 1e-03 -- j = 80000, alpha = 8e+01, eg = 0.0021220449, time = 4.39\n",
      "d = 100, k = 4, n = 8, eta = 0.800, noise= 1e-03 -- j = 90000, alpha = 9e+01, eg = 0.0020864832, time = 4.32\n",
      "d = 100, k = 4, n = 8, eta = 0.800, noise= 1e-03 -- j = 100000, alpha = 1e+02, eg = 0.0020390363, time = 4.11\n",
      "d = 100, k = 4, n = 8, eta = 0.800, noise= 1e-03 -- j = 200000, alpha = 2e+02, eg = 0.0015203699, time = 43.69\n",
      "d = 100, k = 4, n = 8, eta = 0.800, noise= 1e-03 -- j = 300000, alpha = 3e+02, eg = 0.0008872369, time = 43.28\n",
      "d = 100, k = 4, n = 8, eta = 0.800, noise= 1e-03 -- j = 400000, alpha = 4e+02, eg = 0.0004273593, time = 41.33\n",
      "d = 100, k = 4, n = 8, eta = 0.800, noise= 1e-03 -- j = 500000, alpha = 5e+02, eg = 0.0002055255, time = 42.07\n",
      "d = 100, k = 4, n = 8, eta = 0.800, noise= 1e-03 -- j = 600000, alpha = 6e+02, eg = 0.0001155212, time = 40.50\n",
      "d = 100, k = 4, n = 8, eta = 0.800, noise= 1e-03 -- j = 700000, alpha = 7e+02, eg = 0.0000801952, time = 40.60\n",
      "d = 100, k = 4, n = 8, eta = 0.800, noise= 1e-03 -- j = 800000, alpha = 8e+02, eg = 0.0000669257, time = 46.81\n",
      "d = 100, k = 4, n = 8, eta = 0.800, noise= 1e-03 -- j = 900000, alpha = 9e+02, eg = 0.0000553076, time = 44.37\n",
      "d = 100, k = 4, n = 8, eta = 0.800, noise= 1e-03 -- j = 1000000, alpha = 1e+03, eg = 0.0000503818, time = 41.22\n",
      "d = 100, k = 4, n = 8, eta = 0.800, noise= 1e-03 -- j = 2000000, alpha = 2e+03, eg = 0.0000303694, time = 402.04\n",
      "d = 100, k = 4, n = 8, eta = 0.800, noise= 1e-03 -- j = 3000000, alpha = 3e+03, eg = 0.0000166219, time = 404.90\n",
      "d = 100, k = 4, n = 8, eta = 0.800, noise= 1e-03 -- j = 4000000, alpha = 4e+03, eg = 0.0000111764, time = 391.81\n",
      "d = 100, k = 4, n = 8, eta = 0.800, noise= 1e-03 -- j = 5000000, alpha = 5e+03, eg = 0.0000098998, time = 393.53\n",
      "d = 100, k = 4, n = 8, eta = 0.800, noise= 1e-03 -- j = 6000000, alpha = 6e+03, eg = 0.0000089455, time = 415.95\n",
      "d = 100, k = 4, n = 8, eta = 0.800, noise= 1e-03 -- j = 7000000, alpha = 7e+03, eg = 0.0000107480, time = 396.68\n",
      "d = 100, k = 4, n = 8, eta = 0.800, noise= 1e-03 -- j = 8000000, alpha = 8e+03, eg = 0.0000102159, time = 382.53\n",
      "d = 100, k = 4, n = 8, eta = 0.800, noise= 1e-03 -- j = 9000000, alpha = 9e+03, eg = 0.0000088195, time = 381.07\n",
      "d = 100, k = 4, n = 8, eta = 0.800, noise= 1e-03 -- j = 10000000, alpha = 1e+04, eg = 0.0000092068, time = 461.39\n",
      "Terminating: alpha = 1e+04 (alpha_max)\n"
     ]
    }
   ],
   "source": [
    "kappa = 0                              # Hidden layer exponent \n",
    "delta = 0.5                            # Learning rate exponent\n",
    "\n",
    "simul = sim(d,p,k)                      # Initialize the class\n",
    "Wt = simul.set_teacher(orthWt= True)    # orthWt: whether the teacher is delta_{rs} or not\n",
    "W0 = simul.set_W0()                     # Gaussian uninformed initialization\n",
    "\n",
    "t1, eg1, Wf, _ = simul.fit(alpha_max= t_max, delta=delta, kappa=kappa, eta0= gamma_0, noise= noise, tol= tol, save_folder= save_folder)\n",
    "\n",
    "\n",
    "'''If necessary to compare with ODEs, save W0 and Wt to construct the respectives Q0, M0 and P'''\n",
    "#id_ = 'Wt_W0_d%d_p%s_k%s_sit01.npz' % (d,'{:03}'.format(p),'{:03}'.format(k))\n",
    "#dict_save = {'Wt':Wt, 'W0': W0}\n",
    "#file_path_id = '/Wt_W0'\n",
    "#file_path = file_path_id_ + '/' + id_\n",
    "#np.savez(file_path, **dict_save)"
   ]
  },
  {
   "cell_type": "code",
   "execution_count": 18,
   "metadata": {},
   "outputs": [
    {
     "data": {
      "image/png": "[encoded data removed]",
      "text/plain": [
       "<Figure size 720x432 with 1 Axes>"
      ]
     },
     "metadata": {
      "needs_background": "light"
     },
     "output_type": "display_data"
    }
   ],
   "source": [
    "fig, ax = plt.subplots(figsize=(10, 6))\n",
    "\n",
    "lines =10\n",
    "colors = pl.cm.Greens_r(np.linspace(0,1,lines))\n",
    "col0=0\n",
    "\n",
    "ax.plot(t1, eg1, color=colors[col0+4], marker='^', ls='', label= '$\\Delta= 10^{-3}$', ms = 8, mew = 2)\n",
    "ax.set_yscale('log')\n",
    "ax.set_xscale('log')\n",
    "ax.set_xlabel(r'$t = \\frac{\\nu}{d}$', fontsize= 25)\n",
    "ax.set_ylabel(r'${\\cal R}$', fontsize= 25)\n",
    "ax.legend(fontsize=16, loc=3)\n",
    "ax.tick_params(axis='y', labelsize=16)\n",
    "ax.tick_params(axis='x', labelsize=16)\n",
    "ax.grid(True)\n",
    "plt.show()"
   ]
  },
  {
   "cell_type": "markdown",
   "metadata": {},
   "source": [
    "#### Option 2: Teacher matrix ${\\bf W}^*$ generated inside `sim` class before simulation and student initialization ${\\bf W}^0 = {\\bf A}^\\top  {\\bf W}^*$"
   ]
  },
  {
   "cell_type": "code",
   "execution_count": 15,
   "metadata": {},
   "outputs": [
    {
     "name": "stdout",
     "output_type": "stream",
     "text": [
      "BLUE line: kappa + delta = 0\n",
      "alpha_scale:  d1.0000\n",
      "Committees normalized with 1/n and 1/k\n",
      "Wt orthogonal\n",
      "W0 linear combination of Wt\n",
      "Teacher with additive output noise: y_t = f + sqrt(noise)*xi ; noise= 1e-03\n",
      "d= 100, k= 4, n= 8, eta= 8.000, noise= 1e-03 -- j= 0, alpha= 0e+00, eg= 0.0772056003, time= 0.00\n",
      "d = 100, k = 4, n = 8, eta = 8.000, noise= 1e-03 -- j = 100, alpha = 1e+00, eg = 0.0496956034, time = 36.63\n",
      "d = 100, k = 4, n = 8, eta = 8.000, noise= 1e-03 -- j = 200, alpha = 2e+00, eg = 0.0310340415, time = 0.33\n",
      "d = 100, k = 4, n = 8, eta = 8.000, noise= 1e-03 -- j = 300, alpha = 3e+00, eg = 0.0188059780, time = 0.35\n",
      "d = 100, k = 4, n = 8, eta = 8.000, noise= 1e-03 -- j = 400, alpha = 4e+00, eg = 0.0132794173, time = 0.34\n",
      "d = 100, k = 4, n = 8, eta = 8.000, noise= 1e-03 -- j = 500, alpha = 5e+00, eg = 0.0097431033, time = 0.38\n",
      "d = 100, k = 4, n = 8, eta = 8.000, noise= 1e-03 -- j = 600, alpha = 6e+00, eg = 0.0064296986, time = 0.33\n",
      "d = 100, k = 4, n = 8, eta = 8.000, noise= 1e-03 -- j = 700, alpha = 7e+00, eg = 0.0044432547, time = 0.34\n",
      "d = 100, k = 4, n = 8, eta = 8.000, noise= 1e-03 -- j = 800, alpha = 8e+00, eg = 0.0037711814, time = 0.33\n",
      "d = 100, k = 4, n = 8, eta = 8.000, noise= 1e-03 -- j = 900, alpha = 9e+00, eg = 0.0030720585, time = 0.33\n",
      "d = 100, k = 4, n = 8, eta = 8.000, noise= 1e-03 -- j = 1000, alpha = 1e+01, eg = 0.0026257902, time = 0.33\n",
      "d = 100, k = 4, n = 8, eta = 8.000, noise= 1e-03 -- j = 2000, alpha = 2e+01, eg = 0.0017889667, time = 0.68\n",
      "d = 100, k = 4, n = 8, eta = 8.000, noise= 1e-03 -- j = 3000, alpha = 3e+01, eg = 0.0015770167, time = 0.67\n",
      "d = 100, k = 4, n = 8, eta = 8.000, noise= 1e-03 -- j = 4000, alpha = 4e+01, eg = 0.0013858770, time = 0.66\n",
      "d = 100, k = 4, n = 8, eta = 8.000, noise= 1e-03 -- j = 5000, alpha = 5e+01, eg = 0.0011595371, time = 0.66\n",
      "d = 100, k = 4, n = 8, eta = 8.000, noise= 1e-03 -- j = 6000, alpha = 6e+01, eg = 0.0010433188, time = 0.65\n",
      "d = 100, k = 4, n = 8, eta = 8.000, noise= 1e-03 -- j = 7000, alpha = 7e+01, eg = 0.0009865044, time = 0.73\n",
      "d = 100, k = 4, n = 8, eta = 8.000, noise= 1e-03 -- j = 8000, alpha = 8e+01, eg = 0.0008356033, time = 0.82\n",
      "d = 100, k = 4, n = 8, eta = 8.000, noise= 1e-03 -- j = 9000, alpha = 9e+01, eg = 0.0007475084, time = 0.79\n",
      "d = 100, k = 4, n = 8, eta = 8.000, noise= 1e-03 -- j = 10000, alpha = 1e+02, eg = 0.0006891818, time = 0.74\n",
      "d = 100, k = 4, n = 8, eta = 8.000, noise= 1e-03 -- j = 20000, alpha = 2e+02, eg = 0.0003377966, time = 4.20\n",
      "d = 100, k = 4, n = 8, eta = 8.000, noise= 1e-03 -- j = 30000, alpha = 3e+02, eg = 0.0001952801, time = 4.02\n",
      "d = 100, k = 4, n = 8, eta = 8.000, noise= 1e-03 -- j = 40000, alpha = 4e+02, eg = 0.0001540548, time = 4.06\n",
      "d = 100, k = 4, n = 8, eta = 8.000, noise= 1e-03 -- j = 50000, alpha = 5e+02, eg = 0.0001277588, time = 4.13\n",
      "d = 100, k = 4, n = 8, eta = 8.000, noise= 1e-03 -- j = 60000, alpha = 6e+02, eg = 0.0001353283, time = 4.90\n",
      "d = 100, k = 4, n = 8, eta = 8.000, noise= 1e-03 -- j = 70000, alpha = 7e+02, eg = 0.0001301078, time = 4.70\n",
      "d = 100, k = 4, n = 8, eta = 8.000, noise= 1e-03 -- j = 80000, alpha = 8e+02, eg = 0.0001317280, time = 4.07\n",
      "d = 100, k = 4, n = 8, eta = 8.000, noise= 1e-03 -- j = 90000, alpha = 9e+02, eg = 0.0001255941, time = 4.78\n",
      "d = 100, k = 4, n = 8, eta = 8.000, noise= 1e-03 -- j = 100000, alpha = 1e+03, eg = 0.0001487133, time = 4.85\n",
      "d = 100, k = 4, n = 8, eta = 8.000, noise= 1e-03 -- j = 200000, alpha = 2e+03, eg = 0.0001101884, time = 44.89\n",
      "d = 100, k = 4, n = 8, eta = 8.000, noise= 1e-03 -- j = 300000, alpha = 3e+03, eg = 0.0001411840, time = 42.32\n",
      "d = 100, k = 4, n = 8, eta = 8.000, noise= 1e-03 -- j = 400000, alpha = 4e+03, eg = 0.0001094445, time = 43.09\n",
      "d = 100, k = 4, n = 8, eta = 8.000, noise= 1e-03 -- j = 500000, alpha = 5e+03, eg = 0.0001066774, time = 41.51\n",
      "d = 100, k = 4, n = 8, eta = 8.000, noise= 1e-03 -- j = 600000, alpha = 6e+03, eg = 0.0000974110, time = 40.55\n",
      "d = 100, k = 4, n = 8, eta = 8.000, noise= 1e-03 -- j = 700000, alpha = 7e+03, eg = 0.0001333031, time = 41.53\n",
      "d = 100, k = 4, n = 8, eta = 8.000, noise= 1e-03 -- j = 800000, alpha = 8e+03, eg = 0.0001261680, time = 38.86\n",
      "d = 100, k = 4, n = 8, eta = 8.000, noise= 1e-03 -- j = 900000, alpha = 9e+03, eg = 0.0001197866, time = 39.16\n",
      "d = 100, k = 4, n = 8, eta = 8.000, noise= 1e-03 -- j = 1000000, alpha = 1e+04, eg = 0.0001222883, time = 41.12\n",
      "Terminating: alpha = 1e+04 (alpha_max)\n"
     ]
    }
   ],
   "source": [
    "kappa = 0                                                          # Hidden layer exponent \n",
    "delta = 0                                                          # Learning rate exponent\n",
    "\n",
    "simul = sim(d,p,k)                                                 # Initialize the class\n",
    "\n",
    "lin_coeff = normalize(np.random.randn(p,k), axis=1, norm='l2')     # Sample A in a ball of radius 1\n",
    "Wt = simul.set_teacher(orthWt= True)                               # orthWt: whether the teacher is delta_{rs} or not\n",
    "W0 = simul.set_W0(lin_coeff=lin_coeff)                             # Entering lin_coeff, the code constructs W0 = A W*\n",
    "\n",
    "t2, eg2, Wf2, _ = simul.fit(alpha_max= t_max, delta=delta, kappa=kappa, eta0= gamma_0, noise= noise, tol= tol, save_folder= save_folder)\n",
    "\n",
    "'''If necessary to compare with ODEs, save W0 and Wt to construct the respectives Q0, M0 and P'''\n",
    "#id_ = 'Wt_W0_d%d_p%s_k%s_lincombW0%s_st00.npz' % (d,'{:03}'.format(n),'{:03}'.format(k),str(lin_coeffW0))\n",
    "#dict_save = {'Wt':Wt, 'W0': W0, 'lin_coeff': lin_coeff }\n",
    "#file_path_id = '/Wt_W0'\n",
    "#file_path = file_path_id_ + '/' + id_\n",
    "#np.savez(file_path, **dict_save)"
   ]
  },
  {
   "cell_type": "code",
   "execution_count": 16,
   "metadata": {},
   "outputs": [
    {
     "data": {
      "image/png": "[encoded data removed]",
      "text/plain": [
       "<Figure size 720x432 with 1 Axes>"
      ]
     },
     "metadata": {
      "needs_background": "light"
     },
     "output_type": "display_data"
    }
   ],
   "source": [
    "fig, ax = plt.subplots(figsize=(10, 6))\n",
    "\n",
    "lines =10\n",
    "colors = pl.cm.Blues_r(np.linspace(0,1,lines))\n",
    "col0=0\n",
    "\n",
    "ax.plot(t2, eg2, color=colors[col0+4], marker='^', ls='', label= '$\\Delta= 10^{-3}$', ms = 8, mew = 2)\n",
    "ax.set_yscale('log')\n",
    "ax.set_xscale('log')\n",
    "ax.set_xlabel(r'$t = \\frac{\\nu}{d}$', fontsize= 25)\n",
    "ax.set_ylabel(r'${\\cal R}$', fontsize= 25)\n",
    "ax.legend(fontsize=16, loc=3)\n",
    "ax.tick_params(axis='y', labelsize=16)\n",
    "ax.tick_params(axis='x', labelsize=16)\n",
    "ax.grid(True)\n",
    "plt.show()"
   ]
  },
  {
   "cell_type": "code",
   "execution_count": null,
   "metadata": {},
   "outputs": [
    {
     "name": "stdout",
     "output_type": "stream",
     "text": [
      "GREEN region: kappa + delta > 0\n",
      "alpha_scale:  d1.5000\n",
      "Committees normalized with 1/n and 1/k\n",
      "Wt orthogonal\n",
      "W0 linear combination of Wt\n",
      "Teacher with additive output noise: y_t = f + sqrt(noise)*xi ; noise= 1e-03\n",
      "d= 100, k= 4, n= 8, eta= 0.800, noise= 1e-03 -- j= 0, alpha= 0e+00, eg= 0.0338177448, time= 0.00\n",
      "d = 100, k = 4, n = 8, eta = 0.800, noise= 1e-03 -- j = 1000, alpha = 1e+00, eg = 0.0210693757, time = 41.54\n",
      "d = 100, k = 4, n = 8, eta = 0.800, noise= 1e-03 -- j = 2000, alpha = 2e+00, eg = 0.0133051576, time = 0.73\n",
      "d = 100, k = 4, n = 8, eta = 0.800, noise= 1e-03 -- j = 3000, alpha = 3e+00, eg = 0.0084573580, time = 0.76\n",
      "d = 100, k = 4, n = 8, eta = 0.800, noise= 1e-03 -- j = 4000, alpha = 4e+00, eg = 0.0056816254, time = 0.74\n",
      "d = 100, k = 4, n = 8, eta = 0.800, noise= 1e-03 -- j = 5000, alpha = 5e+00, eg = 0.0040204714, time = 0.79\n",
      "d = 100, k = 4, n = 8, eta = 0.800, noise= 1e-03 -- j = 6000, alpha = 6e+00, eg = 0.0030582039, time = 0.84\n",
      "d = 100, k = 4, n = 8, eta = 0.800, noise= 1e-03 -- j = 7000, alpha = 7e+00, eg = 0.0024868303, time = 0.75\n",
      "d = 100, k = 4, n = 8, eta = 0.800, noise= 1e-03 -- j = 8000, alpha = 8e+00, eg = 0.0021383683, time = 0.73\n",
      "d = 100, k = 4, n = 8, eta = 0.800, noise= 1e-03 -- j = 9000, alpha = 9e+00, eg = 0.0018785684, time = 0.75\n",
      "d = 100, k = 4, n = 8, eta = 0.800, noise= 1e-03 -- j = 10000, alpha = 1e+01, eg = 0.0016993635, time = 0.74\n",
      "d = 100, k = 4, n = 8, eta = 0.800, noise= 1e-03 -- j = 20000, alpha = 2e+01, eg = 0.0012952886, time = 4.30\n",
      "d = 100, k = 4, n = 8, eta = 0.800, noise= 1e-03 -- j = 30000, alpha = 3e+01, eg = 0.0011460511, time = 4.26\n",
      "d = 100, k = 4, n = 8, eta = 0.800, noise= 1e-03 -- j = 40000, alpha = 4e+01, eg = 0.0010224392, time = 4.50\n",
      "d = 100, k = 4, n = 8, eta = 0.800, noise= 1e-03 -- j = 50000, alpha = 5e+01, eg = 0.0009075522, time = 4.31\n",
      "d = 100, k = 4, n = 8, eta = 0.800, noise= 1e-03 -- j = 60000, alpha = 6e+01, eg = 0.0008110105, time = 4.28\n",
      "d = 100, k = 4, n = 8, eta = 0.800, noise= 1e-03 -- j = 70000, alpha = 7e+01, eg = 0.0007167202, time = 4.30\n",
      "d = 100, k = 4, n = 8, eta = 0.800, noise= 1e-03 -- j = 80000, alpha = 8e+01, eg = 0.0006430886, time = 4.27\n",
      "d = 100, k = 4, n = 8, eta = 0.800, noise= 1e-03 -- j = 90000, alpha = 9e+01, eg = 0.0005635041, time = 4.32\n",
      "d = 100, k = 4, n = 8, eta = 0.800, noise= 1e-03 -- j = 100000, alpha = 1e+02, eg = 0.0004972525, time = 4.26\n",
      "d = 100, k = 4, n = 8, eta = 0.800, noise= 1e-03 -- j = 200000, alpha = 2e+02, eg = 0.0001849703, time = 40.12\n",
      "d = 100, k = 4, n = 8, eta = 0.800, noise= 1e-03 -- j = 300000, alpha = 3e+02, eg = 0.0001029250, time = 40.79\n",
      "d = 100, k = 4, n = 8, eta = 0.800, noise= 1e-03 -- j = 400000, alpha = 4e+02, eg = 0.0000654736, time = 53.44\n",
      "d = 100, k = 4, n = 8, eta = 0.800, noise= 1e-03 -- j = 500000, alpha = 5e+02, eg = 0.0000500840, time = 64.93\n",
      "d = 100, k = 4, n = 8, eta = 0.800, noise= 1e-03 -- j = 600000, alpha = 6e+02, eg = 0.0000394959, time = 59.14\n",
      "d = 100, k = 4, n = 8, eta = 0.800, noise= 1e-03 -- j = 700000, alpha = 7e+02, eg = 0.0000321453, time = 59.62\n",
      "d = 100, k = 4, n = 8, eta = 0.800, noise= 1e-03 -- j = 800000, alpha = 8e+02, eg = 0.0000269384, time = 62.81\n",
      "d = 100, k = 4, n = 8, eta = 0.800, noise= 1e-03 -- j = 900000, alpha = 9e+02, eg = 0.0000227848, time = 44.78\n",
      "d = 100, k = 4, n = 8, eta = 0.800, noise= 1e-03 -- j = 1000000, alpha = 1e+03, eg = 0.0000211894, time = 40.82\n",
      "d = 100, k = 4, n = 8, eta = 0.800, noise= 1e-03 -- j = 2000000, alpha = 2e+03, eg = 0.0000123568, time = 441.22\n"
     ]
    }
   ],
   "source": [
    "kappa = 0                                                          # Hidden layer exponent \n",
    "delta = 0.5                                                        # Learning rate exponent\n",
    "\n",
    "simul = sim(d,p,k)                                                 # Initialize the class\n",
    "\n",
    "lin_coeff = normalize(np.random.randn(p,k), axis=1, norm='l2')     # Sample A in a ball of radius 1\n",
    "Wt = simul.set_teacher(orthWt= True)                               # orthWt: whether the teacher is delta_{rs} or not\n",
    "W0 = simul.set_W0(lin_coeff=lin_coeff)                             # Entering lin_coeff, the code constructs W0 = A W*\n",
    "\n",
    "t3, eg3, Wf3, _ = simul.fit(alpha_max= t_max, delta=delta, kappa=kappa, eta0= gamma_0, noise= noise, tol= tol, save_folder= save_folder)\n",
    "\n",
    "\n",
    "'''If necessary to compare with ODEs, save W0 and Wt to construct the respectives Q0, M0 and P'''\n",
    "#id_ = 'Wt_W0_d%d_p%s_k%s_sit01.npz' % (d,'{:03}'.format(p),'{:03}'.format(k))\n",
    "#dict_save = {'Wt':Wt, 'W0': W0}\n",
    "#file_path_id = '/Wt_W0'\n",
    "#file_path = file_path_id_ + '/' + id_\n",
    "#np.savez(file_path, **dict_save)"
   ]
  },
  {
   "cell_type": "code",
   "execution_count": null,
   "metadata": {},
   "outputs": [],
   "source": [
    "fig, ax = plt.subplots(figsize=(10, 6))\n",
    "\n",
    "lines =10\n",
    "colors = pl.cm.Greens_r(np.linspace(0,1,lines))\n",
    "col0=0\n",
    "\n",
    "ax.plot(t3, eg3, color=colors[col0+4], marker='^', ls='', label= '$\\Delta= 10^{-3}$', ms = 8, mew = 2)\n",
    "ax.set_yscale('log')\n",
    "ax.set_xscale('log')\n",
    "ax.set_xlabel(r'$t = \\frac{\\nu}{d}$', fontsize= 25)\n",
    "ax.set_ylabel(r'${\\cal R}$', fontsize= 25)\n",
    "ax.legend(fontsize=16, loc=3)\n",
    "ax.tick_params(axis='y', labelsize=16)\n",
    "ax.tick_params(axis='x', labelsize=16)\n",
    "ax.grid(True)\n",
    "plt.show()"
   ]
  },
  {
   "cell_type": "code",
   "execution_count": null,
   "metadata": {},
   "outputs": [],
   "source": []
  }
 ],
 "metadata": {
  "kernelspec": {
   "display_name": "Python 3.8.5 64-bit ('anaconda3': virtualenv)",
   "language": "python",
   "name": "python385jvsc74a57bd055f1c31c9ec88ecd0138ba008a06445b3495182e663e08d0be129519e756f673"
  },
  "language_info": {
   "codemirror_mode": {
    "name": "ipython",
    "version": 3
   },
   "file_extension": ".py",
   "mimetype": "text/x-python",
   "name": "python",
   "nbconvert_exporter": "python",
   "pygments_lexer": "ipython3",
   "version": "3.8.5"
  }
 },
 "nbformat": 4,
 "nbformat_minor": 4
}
