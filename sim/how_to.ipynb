{
 "cells": [
  {
   "cell_type": "code",
   "execution_count": 13,
   "metadata": {},
   "outputs": [],
   "source": [
    "import numpy as np\n",
    "import matplotlib.pyplot as plt\n",
    "from sklearn.preprocessing import normalize\n",
    "import matplotlib as mpl\n",
    "import matplotlib.pylab as pl\n",
    "\n",
    "# Paper font style\n",
    "rc_fonts = {\n",
    "    'font.family': 'serif',\n",
    "    'figure.figsize': (10, 6),\n",
    "    'text.usetex': True,\n",
    "    'text.latex.preview': True,\n",
    "    'text.latex.preamble': r\"\\usepackage[cal=euler]{mathalfa} \\usepackage{libertine} \\usepackage[libertine,smallerops]{newtxmath} \\usepackage[T1]{fontenc}\"\n",
    "}\n",
    "\n",
    "mpl.rcParams.update(rc_fonts)"
   ]
  },
  {
   "cell_type": "markdown",
   "metadata": {},
   "source": [
    "### Import simulation class"
   ]
  },
  {
   "cell_type": "code",
   "execution_count": 2,
   "metadata": {},
   "outputs": [],
   "source": [
    "from sim import sim"
   ]
  },
  {
   "cell_type": "markdown",
   "metadata": {},
   "source": [
    "### Parameters"
   ]
  },
  {
   "cell_type": "code",
   "execution_count": 6,
   "metadata": {},
   "outputs": [],
   "source": [
    "d = 100                            # Number of input units \n",
    "k = 4                              # Number of teacher hidden units  \n",
    "p = 8                              # Number of student hidden units \n",
    "noise = 1e-3                       # Noise level\n",
    "t_max = 1e4                        # Maximum t on the respective time scaling\n",
    "tol = 0                            # Stops if abs(pop_risk_t - pop_risk_{t-1}) <= tol. If zero, stops on alpha_max\n",
    "save_folder = 'results/ex_sim00/'  # Folder to save\n",
    "gamma_0 = p                        # Gamma zero"
   ]
  },
  {
   "cell_type": "markdown",
   "metadata": {},
   "source": [
    "#### Case 1: Teacher matrix ${\\bf W}^*$ and student initialization ${\\bf W}^0$ generated inside `sim` class before simulation"
   ]
  },
  {
   "cell_type": "code",
   "execution_count": 8,
   "metadata": {},
   "outputs": [
    {
     "name": "stdout",
     "output_type": "stream",
     "text": [
      "BLUE line: kappa + delta = 0\n",
      "alpha_scale:  d1.0000\n",
      "Committees normalized with 1/n and 1/k\n",
      "Wt orthogonal\n",
      "Teacher with additive output noise: y_t = f + sqrt(noise)*xi ; noise= 1e-03\n",
      "d= 100, k= 4, n= 8, eta= 8.000, noise= 1e-03 -- j= 0, alpha= 0e+00, eg= 0.0582859816, time= 0.00\n",
      "d = 100, k = 4, n = 8, eta = 8.000, noise= 1e-03 -- j = 100, alpha = 1e+00, eg = 0.0326845537, time = 36.96\n",
      "d = 100, k = 4, n = 8, eta = 8.000, noise= 1e-03 -- j = 200, alpha = 2e+00, eg = 0.0222666373, time = 0.35\n",
      "d = 100, k = 4, n = 8, eta = 8.000, noise= 1e-03 -- j = 300, alpha = 3e+00, eg = 0.0155590254, time = 0.36\n",
      "d = 100, k = 4, n = 8, eta = 8.000, noise= 1e-03 -- j = 400, alpha = 4e+00, eg = 0.0110578798, time = 0.36\n",
      "d = 100, k = 4, n = 8, eta = 8.000, noise= 1e-03 -- j = 500, alpha = 5e+00, eg = 0.0081736842, time = 0.35\n",
      "d = 100, k = 4, n = 8, eta = 8.000, noise= 1e-03 -- j = 600, alpha = 6e+00, eg = 0.0062003718, time = 0.43\n",
      "d = 100, k = 4, n = 8, eta = 8.000, noise= 1e-03 -- j = 700, alpha = 7e+00, eg = 0.0050543729, time = 0.37\n",
      "d = 100, k = 4, n = 8, eta = 8.000, noise= 1e-03 -- j = 800, alpha = 8e+00, eg = 0.0045089759, time = 0.35\n",
      "d = 100, k = 4, n = 8, eta = 8.000, noise= 1e-03 -- j = 900, alpha = 9e+00, eg = 0.0039737159, time = 0.35\n",
      "d = 100, k = 4, n = 8, eta = 8.000, noise= 1e-03 -- j = 1000, alpha = 1e+01, eg = 0.0036066512, time = 0.35\n",
      "d = 100, k = 4, n = 8, eta = 8.000, noise= 1e-03 -- j = 2000, alpha = 2e+01, eg = 0.0031495733, time = 0.71\n",
      "d = 100, k = 4, n = 8, eta = 8.000, noise= 1e-03 -- j = 3000, alpha = 3e+01, eg = 0.0029748061, time = 0.68\n",
      "d = 100, k = 4, n = 8, eta = 8.000, noise= 1e-03 -- j = 4000, alpha = 4e+01, eg = 0.0031346885, time = 0.68\n",
      "d = 100, k = 4, n = 8, eta = 8.000, noise= 1e-03 -- j = 5000, alpha = 5e+01, eg = 0.0029484963, time = 0.80\n",
      "d = 100, k = 4, n = 8, eta = 8.000, noise= 1e-03 -- j = 6000, alpha = 6e+01, eg = 0.0029387386, time = 0.69\n",
      "d = 100, k = 4, n = 8, eta = 8.000, noise= 1e-03 -- j = 7000, alpha = 7e+01, eg = 0.0029519968, time = 0.66\n",
      "d = 100, k = 4, n = 8, eta = 8.000, noise= 1e-03 -- j = 8000, alpha = 8e+01, eg = 0.0028424523, time = 0.75\n",
      "d = 100, k = 4, n = 8, eta = 8.000, noise= 1e-03 -- j = 9000, alpha = 9e+01, eg = 0.0028026790, time = 0.68\n",
      "d = 100, k = 4, n = 8, eta = 8.000, noise= 1e-03 -- j = 10000, alpha = 1e+02, eg = 0.0030772643, time = 0.69\n",
      "d = 100, k = 4, n = 8, eta = 8.000, noise= 1e-03 -- j = 20000, alpha = 2e+02, eg = 0.0023387594, time = 4.14\n",
      "d = 100, k = 4, n = 8, eta = 8.000, noise= 1e-03 -- j = 30000, alpha = 3e+02, eg = 0.0015410464, time = 4.09\n",
      "d = 100, k = 4, n = 8, eta = 8.000, noise= 1e-03 -- j = 40000, alpha = 4e+02, eg = 0.0008317353, time = 4.29\n",
      "d = 100, k = 4, n = 8, eta = 8.000, noise= 1e-03 -- j = 50000, alpha = 5e+02, eg = 0.0003604049, time = 4.43\n",
      "d = 100, k = 4, n = 8, eta = 8.000, noise= 1e-03 -- j = 60000, alpha = 6e+02, eg = 0.0002365590, time = 5.45\n",
      "d = 100, k = 4, n = 8, eta = 8.000, noise= 1e-03 -- j = 70000, alpha = 7e+02, eg = 0.0002112624, time = 5.37\n",
      "d = 100, k = 4, n = 8, eta = 8.000, noise= 1e-03 -- j = 80000, alpha = 8e+02, eg = 0.0001596904, time = 4.20\n",
      "d = 100, k = 4, n = 8, eta = 8.000, noise= 1e-03 -- j = 90000, alpha = 9e+02, eg = 0.0001494867, time = 4.18\n",
      "d = 100, k = 4, n = 8, eta = 8.000, noise= 1e-03 -- j = 100000, alpha = 1e+03, eg = 0.0001530662, time = 4.18\n",
      "d = 100, k = 4, n = 8, eta = 8.000, noise= 1e-03 -- j = 200000, alpha = 2e+03, eg = 0.0001063393, time = 46.09\n",
      "d = 100, k = 4, n = 8, eta = 8.000, noise= 1e-03 -- j = 300000, alpha = 3e+03, eg = 0.0001082635, time = 40.23\n",
      "d = 100, k = 4, n = 8, eta = 8.000, noise= 1e-03 -- j = 400000, alpha = 4e+03, eg = 0.0001266171, time = 40.55\n",
      "d = 100, k = 4, n = 8, eta = 8.000, noise= 1e-03 -- j = 500000, alpha = 5e+03, eg = 0.0000916869, time = 39.59\n",
      "d = 100, k = 4, n = 8, eta = 8.000, noise= 1e-03 -- j = 600000, alpha = 6e+03, eg = 0.0000984641, time = 41.95\n",
      "d = 100, k = 4, n = 8, eta = 8.000, noise= 1e-03 -- j = 700000, alpha = 7e+03, eg = 0.0001068790, time = 41.21\n",
      "d = 100, k = 4, n = 8, eta = 8.000, noise= 1e-03 -- j = 800000, alpha = 8e+03, eg = 0.0001301321, time = 40.67\n",
      "d = 100, k = 4, n = 8, eta = 8.000, noise= 1e-03 -- j = 900000, alpha = 9e+03, eg = 0.0001069478, time = 40.99\n",
      "d = 100, k = 4, n = 8, eta = 8.000, noise= 1e-03 -- j = 1000000, alpha = 1e+04, eg = 0.0001099385, time = 42.21\n",
      "Terminating: alpha = 1e+04 (alpha_max)\n"
     ]
    }
   ],
   "source": [
    "kappa = 0                              # Hidden layer exponent \n",
    "delta = 0                              # Learning rate exponent\n",
    "\n",
    "simul = sim(d,p,k)                      # Initialize the class\n",
    "Wt = simul.set_teacher(orthWt= True)    # orthWt: whether the teacher is delta_{rs} or not\n",
    "W0 = simul.set_W0()                     # Gaussian uninformed initialization\n",
    "\n",
    "t, eg, Wf, _ = simul.fit(alpha_max= t_max, delta=delta, kappa=kappa, eta0= gamma_0, noise= noise, tol= tol, save_folder= save_folder)"
   ]
  },
  {
   "cell_type": "code",
   "execution_count": null,
   "metadata": {},
   "outputs": [],
   "source": [
    "fig, ax = plt.subplots(figsize=(10, 6))\n",
    "\n",
    "lines =10\n",
    "colors = pl.cm.Blues_r(np.linspace(0,1,lines))\n",
    "col0=0\n",
    "\n",
    "ax.plot(t, eg, color=colors[col0+4], marker='^', ls='', label= '$\\Delta= 10^{-3}$', ms = 8, mew = 2)\n",
    "ax.set_yscale('log')\n",
    "ax.set_xscale('log')\n",
    "ax.set_xlabel(r'$t = \\frac{\\nu}{d}$', fontsize= 25)\n",
    "ax.set_ylabel(r'${\\cal R}$', fontsize= 25)\n",
    "ax.legend(fontsize=16, loc=3)\n",
    "ax.tick_params(axis='y', labelsize=16)\n",
    "ax.tick_params(axis='x', labelsize=16)\n",
    "ax.grid(True)\n",
    "plt.show()"
   ]
  },
  {
   "cell_type": "code",
   "execution_count": 17,
   "metadata": {},
   "outputs": [
    {
     "name": "stdout",
     "output_type": "stream",
     "text": [
      "GREEN region: kappa + delta > 0\n",
      "alpha_scale:  d1.5000\n",
      "Committees normalized with 1/n and 1/k\n",
      "Wt orthogonal\n",
      "Teacher with additive output noise: y_t = f + sqrt(noise)*xi ; noise= 1e-03\n",
      "d= 100, k= 4, n= 8, eta= 0.800, noise= 1e-03 -- j= 0, alpha= 0e+00, eg= 0.0626229721, time= 0.00\n",
      "d = 100, k = 4, n = 8, eta = 0.800, noise= 1e-03 -- j = 1000, alpha = 1e+00, eg = 0.0353063335, time = 36.91\n",
      "d = 100, k = 4, n = 8, eta = 0.800, noise= 1e-03 -- j = 2000, alpha = 2e+00, eg = 0.0195965421, time = 0.72\n",
      "d = 100, k = 4, n = 8, eta = 0.800, noise= 1e-03 -- j = 3000, alpha = 3e+00, eg = 0.0116115890, time = 0.76\n",
      "d = 100, k = 4, n = 8, eta = 0.800, noise= 1e-03 -- j = 4000, alpha = 4e+00, eg = 0.0075009911, time = 0.66\n",
      "d = 100, k = 4, n = 8, eta = 0.800, noise= 1e-03 -- j = 5000, alpha = 5e+00, eg = 0.0052848241, time = 0.66\n",
      "d = 100, k = 4, n = 8, eta = 0.800, noise= 1e-03 -- j = 6000, alpha = 6e+00, eg = 0.0041045435, time = 0.69\n",
      "d = 100, k = 4, n = 8, eta = 0.800, noise= 1e-03 -- j = 7000, alpha = 7e+00, eg = 0.0034135620, time = 0.69\n",
      "d = 100, k = 4, n = 8, eta = 0.800, noise= 1e-03 -- j = 8000, alpha = 8e+00, eg = 0.0030474049, time = 0.70\n",
      "d = 100, k = 4, n = 8, eta = 0.800, noise= 1e-03 -- j = 9000, alpha = 9e+00, eg = 0.0028884050, time = 0.68\n",
      "d = 100, k = 4, n = 8, eta = 0.800, noise= 1e-03 -- j = 10000, alpha = 1e+01, eg = 0.0027548362, time = 0.67\n",
      "d = 100, k = 4, n = 8, eta = 0.800, noise= 1e-03 -- j = 20000, alpha = 2e+01, eg = 0.0025293965, time = 4.29\n",
      "d = 100, k = 4, n = 8, eta = 0.800, noise= 1e-03 -- j = 30000, alpha = 3e+01, eg = 0.0024505908, time = 5.11\n",
      "d = 100, k = 4, n = 8, eta = 0.800, noise= 1e-03 -- j = 40000, alpha = 4e+01, eg = 0.0023808635, time = 4.57\n",
      "d = 100, k = 4, n = 8, eta = 0.800, noise= 1e-03 -- j = 50000, alpha = 5e+01, eg = 0.0023003357, time = 4.37\n",
      "d = 100, k = 4, n = 8, eta = 0.800, noise= 1e-03 -- j = 60000, alpha = 6e+01, eg = 0.0022484260, time = 4.56\n",
      "d = 100, k = 4, n = 8, eta = 0.800, noise= 1e-03 -- j = 70000, alpha = 7e+01, eg = 0.0021871008, time = 4.24\n",
      "d = 100, k = 4, n = 8, eta = 0.800, noise= 1e-03 -- j = 80000, alpha = 8e+01, eg = 0.0021220449, time = 4.39\n",
      "d = 100, k = 4, n = 8, eta = 0.800, noise= 1e-03 -- j = 90000, alpha = 9e+01, eg = 0.0020864832, time = 4.32\n",
      "d = 100, k = 4, n = 8, eta = 0.800, noise= 1e-03 -- j = 100000, alpha = 1e+02, eg = 0.0020390363, time = 4.11\n",
      "d = 100, k = 4, n = 8, eta = 0.800, noise= 1e-03 -- j = 200000, alpha = 2e+02, eg = 0.0015203699, time = 43.69\n",
      "d = 100, k = 4, n = 8, eta = 0.800, noise= 1e-03 -- j = 300000, alpha = 3e+02, eg = 0.0008872369, time = 43.28\n",
      "d = 100, k = 4, n = 8, eta = 0.800, noise= 1e-03 -- j = 400000, alpha = 4e+02, eg = 0.0004273593, time = 41.33\n",
      "d = 100, k = 4, n = 8, eta = 0.800, noise= 1e-03 -- j = 500000, alpha = 5e+02, eg = 0.0002055255, time = 42.07\n",
      "d = 100, k = 4, n = 8, eta = 0.800, noise= 1e-03 -- j = 600000, alpha = 6e+02, eg = 0.0001155212, time = 40.50\n",
      "d = 100, k = 4, n = 8, eta = 0.800, noise= 1e-03 -- j = 700000, alpha = 7e+02, eg = 0.0000801952, time = 40.60\n",
      "d = 100, k = 4, n = 8, eta = 0.800, noise= 1e-03 -- j = 800000, alpha = 8e+02, eg = 0.0000669257, time = 46.81\n",
      "d = 100, k = 4, n = 8, eta = 0.800, noise= 1e-03 -- j = 900000, alpha = 9e+02, eg = 0.0000553076, time = 44.37\n",
      "d = 100, k = 4, n = 8, eta = 0.800, noise= 1e-03 -- j = 1000000, alpha = 1e+03, eg = 0.0000503818, time = 41.22\n",
      "d = 100, k = 4, n = 8, eta = 0.800, noise= 1e-03 -- j = 2000000, alpha = 2e+03, eg = 0.0000303694, time = 402.04\n",
      "d = 100, k = 4, n = 8, eta = 0.800, noise= 1e-03 -- j = 3000000, alpha = 3e+03, eg = 0.0000166219, time = 404.90\n",
      "d = 100, k = 4, n = 8, eta = 0.800, noise= 1e-03 -- j = 4000000, alpha = 4e+03, eg = 0.0000111764, time = 391.81\n",
      "d = 100, k = 4, n = 8, eta = 0.800, noise= 1e-03 -- j = 5000000, alpha = 5e+03, eg = 0.0000098998, time = 393.53\n",
      "d = 100, k = 4, n = 8, eta = 0.800, noise= 1e-03 -- j = 6000000, alpha = 6e+03, eg = 0.0000089455, time = 415.95\n",
      "d = 100, k = 4, n = 8, eta = 0.800, noise= 1e-03 -- j = 7000000, alpha = 7e+03, eg = 0.0000107480, time = 396.68\n",
      "d = 100, k = 4, n = 8, eta = 0.800, noise= 1e-03 -- j = 8000000, alpha = 8e+03, eg = 0.0000102159, time = 382.53\n",
      "d = 100, k = 4, n = 8, eta = 0.800, noise= 1e-03 -- j = 9000000, alpha = 9e+03, eg = 0.0000088195, time = 381.07\n",
      "d = 100, k = 4, n = 8, eta = 0.800, noise= 1e-03 -- j = 10000000, alpha = 1e+04, eg = 0.0000092068, time = 461.39\n",
      "Terminating: alpha = 1e+04 (alpha_max)\n"
     ]
    }
   ],
   "source": [
    "kappa = 0                              # Hidden layer exponent \n",
    "delta = 0.5                            # Learning rate exponent\n",
    "\n",
    "simul = sim(d,p,k)                      # Initialize the class\n",
    "Wt = simul.set_teacher(orthWt= True)    # orthWt: whether the teacher is delta_{rs} or not\n",
    "W0 = simul.set_W0()                     # Gaussian uninformed initialization\n",
    "\n",
    "t1, eg1, Wf, _ = simul.fit(alpha_max= t_max, delta=delta, kappa=kappa, eta0= gamma_0, noise= noise, tol= tol, save_folder= save_folder)"
   ]
  },
  {
   "cell_type": "code",
   "execution_count": 18,
   "metadata": {},
   "outputs": [
    {
     "data": {
      "image/png": "[encoded data removed]",
      "text/plain": [
       "<Figure size 720x432 with 1 Axes>"
      ]
     },
     "metadata": {
      "needs_background": "light"
     },
     "output_type": "display_data"
    }
   ],
   "source": [
    "fig, ax = plt.subplots(figsize=(10, 6))\n",
    "\n",
    "lines =10\n",
    "colors = pl.cm.Greens_r(np.linspace(0,1,lines))\n",
    "col0=0\n",
    "\n",
    "ax.plot(t1, eg1, color=colors[col0+4], marker='^', ls='', label= '$\\Delta= 10^{-3}$', ms = 8, mew = 2)\n",
    "ax.set_yscale('log')\n",
    "ax.set_xscale('log')\n",
    "ax.set_xlabel(r'$t = \\frac{\\nu}{d}$', fontsize= 25)\n",
    "ax.set_ylabel(r'${\\cal R}$', fontsize= 25)\n",
    "ax.legend(fontsize=16, loc=3)\n",
    "ax.tick_params(axis='y', labelsize=16)\n",
    "ax.tick_params(axis='x', labelsize=16)\n",
    "ax.grid(True)\n",
    "plt.show()"
   ]
  },
  {
   "cell_type": "markdown",
   "metadata": {},
   "source": [
    "#### Case 2: Teacher matrix ${\\bf W}^*$ generated inside `sim` class before simulation and student initialization ${\\bf W}^0 = {\\bf A}^\\top  {\\bf W}^*$"
   ]
  },
  {
   "cell_type": "code",
   "execution_count": 15,
   "metadata": {},
   "outputs": [
    {
     "name": "stdout",
     "output_type": "stream",
     "text": [
      "BLUE line: kappa + delta = 0\n",
      "alpha_scale:  d1.0000\n",
      "Committees normalized with 1/n and 1/k\n",
      "Wt orthogonal\n",
      "W0 linear combination of Wt\n",
      "Teacher with additive output noise: y_t = f + sqrt(noise)*xi ; noise= 1e-03\n",
      "d= 100, k= 4, n= 8, eta= 8.000, noise= 1e-03 -- j= 0, alpha= 0e+00, eg= 0.0772056003, time= 0.00\n",
      "d = 100, k = 4, n = 8, eta = 8.000, noise= 1e-03 -- j = 100, alpha = 1e+00, eg = 0.0496956034, time = 36.63\n",
      "d = 100, k = 4, n = 8, eta = 8.000, noise= 1e-03 -- j = 200, alpha = 2e+00, eg = 0.0310340415, time = 0.33\n",
      "d = 100, k = 4, n = 8, eta = 8.000, noise= 1e-03 -- j = 300, alpha = 3e+00, eg = 0.0188059780, time = 0.35\n",
      "d = 100, k = 4, n = 8, eta = 8.000, noise= 1e-03 -- j = 400, alpha = 4e+00, eg = 0.0132794173, time = 0.34\n",
      "d = 100, k = 4, n = 8, eta = 8.000, noise= 1e-03 -- j = 500, alpha = 5e+00, eg = 0.0097431033, time = 0.38\n",
      "d = 100, k = 4, n = 8, eta = 8.000, noise= 1e-03 -- j = 600, alpha = 6e+00, eg = 0.0064296986, time = 0.33\n",
      "d = 100, k = 4, n = 8, eta = 8.000, noise= 1e-03 -- j = 700, alpha = 7e+00, eg = 0.0044432547, time = 0.34\n",
      "d = 100, k = 4, n = 8, eta = 8.000, noise= 1e-03 -- j = 800, alpha = 8e+00, eg = 0.0037711814, time = 0.33\n",
      "d = 100, k = 4, n = 8, eta = 8.000, noise= 1e-03 -- j = 900, alpha = 9e+00, eg = 0.0030720585, time = 0.33\n",
      "d = 100, k = 4, n = 8, eta = 8.000, noise= 1e-03 -- j = 1000, alpha = 1e+01, eg = 0.0026257902, time = 0.33\n",
      "d = 100, k = 4, n = 8, eta = 8.000, noise= 1e-03 -- j = 2000, alpha = 2e+01, eg = 0.0017889667, time = 0.68\n",
      "d = 100, k = 4, n = 8, eta = 8.000, noise= 1e-03 -- j = 3000, alpha = 3e+01, eg = 0.0015770167, time = 0.67\n",
      "d = 100, k = 4, n = 8, eta = 8.000, noise= 1e-03 -- j = 4000, alpha = 4e+01, eg = 0.0013858770, time = 0.66\n",
      "d = 100, k = 4, n = 8, eta = 8.000, noise= 1e-03 -- j = 5000, alpha = 5e+01, eg = 0.0011595371, time = 0.66\n",
      "d = 100, k = 4, n = 8, eta = 8.000, noise= 1e-03 -- j = 6000, alpha = 6e+01, eg = 0.0010433188, time = 0.65\n",
      "d = 100, k = 4, n = 8, eta = 8.000, noise= 1e-03 -- j = 7000, alpha = 7e+01, eg = 0.0009865044, time = 0.73\n",
      "d = 100, k = 4, n = 8, eta = 8.000, noise= 1e-03 -- j = 8000, alpha = 8e+01, eg = 0.0008356033, time = 0.82\n",
      "d = 100, k = 4, n = 8, eta = 8.000, noise= 1e-03 -- j = 9000, alpha = 9e+01, eg = 0.0007475084, time = 0.79\n",
      "d = 100, k = 4, n = 8, eta = 8.000, noise= 1e-03 -- j = 10000, alpha = 1e+02, eg = 0.0006891818, time = 0.74\n",
      "d = 100, k = 4, n = 8, eta = 8.000, noise= 1e-03 -- j = 20000, alpha = 2e+02, eg = 0.0003377966, time = 4.20\n",
      "d = 100, k = 4, n = 8, eta = 8.000, noise= 1e-03 -- j = 30000, alpha = 3e+02, eg = 0.0001952801, time = 4.02\n",
      "d = 100, k = 4, n = 8, eta = 8.000, noise= 1e-03 -- j = 40000, alpha = 4e+02, eg = 0.0001540548, time = 4.06\n",
      "d = 100, k = 4, n = 8, eta = 8.000, noise= 1e-03 -- j = 50000, alpha = 5e+02, eg = 0.0001277588, time = 4.13\n",
      "d = 100, k = 4, n = 8, eta = 8.000, noise= 1e-03 -- j = 60000, alpha = 6e+02, eg = 0.0001353283, time = 4.90\n",
      "d = 100, k = 4, n = 8, eta = 8.000, noise= 1e-03 -- j = 70000, alpha = 7e+02, eg = 0.0001301078, time = 4.70\n",
      "d = 100, k = 4, n = 8, eta = 8.000, noise= 1e-03 -- j = 80000, alpha = 8e+02, eg = 0.0001317280, time = 4.07\n",
      "d = 100, k = 4, n = 8, eta = 8.000, noise= 1e-03 -- j = 90000, alpha = 9e+02, eg = 0.0001255941, time = 4.78\n",
      "d = 100, k = 4, n = 8, eta = 8.000, noise= 1e-03 -- j = 100000, alpha = 1e+03, eg = 0.0001487133, time = 4.85\n",
      "d = 100, k = 4, n = 8, eta = 8.000, noise= 1e-03 -- j = 200000, alpha = 2e+03, eg = 0.0001101884, time = 44.89\n",
      "d = 100, k = 4, n = 8, eta = 8.000, noise= 1e-03 -- j = 300000, alpha = 3e+03, eg = 0.0001411840, time = 42.32\n",
      "d = 100, k = 4, n = 8, eta = 8.000, noise= 1e-03 -- j = 400000, alpha = 4e+03, eg = 0.0001094445, time = 43.09\n",
      "d = 100, k = 4, n = 8, eta = 8.000, noise= 1e-03 -- j = 500000, alpha = 5e+03, eg = 0.0001066774, time = 41.51\n",
      "d = 100, k = 4, n = 8, eta = 8.000, noise= 1e-03 -- j = 600000, alpha = 6e+03, eg = 0.0000974110, time = 40.55\n",
      "d = 100, k = 4, n = 8, eta = 8.000, noise= 1e-03 -- j = 700000, alpha = 7e+03, eg = 0.0001333031, time = 41.53\n",
      "d = 100, k = 4, n = 8, eta = 8.000, noise= 1e-03 -- j = 800000, alpha = 8e+03, eg = 0.0001261680, time = 38.86\n",
      "d = 100, k = 4, n = 8, eta = 8.000, noise= 1e-03 -- j = 900000, alpha = 9e+03, eg = 0.0001197866, time = 39.16\n",
      "d = 100, k = 4, n = 8, eta = 8.000, noise= 1e-03 -- j = 1000000, alpha = 1e+04, eg = 0.0001222883, time = 41.12\n",
      "Terminating: alpha = 1e+04 (alpha_max)\n"
     ]
    }
   ],
   "source": [
    "kappa = 0                                                          # Hidden layer exponent \n",
    "delta = 0                                                          # Learning rate exponent\n",
    "\n",
    "simul = sim(d,p,k)                                                 # Initialize the class\n",
    "\n",
    "lin_coeff = normalize(np.random.randn(p,k), axis=1, norm='l2')     # Sample A in a ball of radius 1\n",
    "Wt = simul.set_teacher(orthWt= True)                               # orthWt: whether the teacher is delta_{rs} or not\n",
    "W0 = simul.set_W0(lin_coeff=lin_coeff)                             # Entering lin_coeff, the code constructs W0 = A W*\n",
    "\n",
    "t2, eg2, Wf2, _ = simul.fit(alpha_max= t_max, delta=delta, kappa=kappa, eta0= gamma_0, noise= noise, tol= tol, save_folder= save_folder)"
   ]
  },
  {
   "cell_type": "code",
   "execution_count": 16,
   "metadata": {},
   "outputs": [
    {
     "data": {
      "image/png": "[encoded data removed]",
      "text/plain": [
       "<Figure size 720x432 with 1 Axes>"
      ]
     },
     "metadata": {
      "needs_background": "light"
     },
     "output_type": "display_data"
    }
   ],
   "source": [
    "fig, ax = plt.subplots(figsize=(10, 6))\n",
    "\n",
    "lines =10\n",
    "colors = pl.cm.Blues_r(np.linspace(0,1,lines))\n",
    "col0=0\n",
    "\n",
    "ax.plot(t2, eg2, color=colors[col0+4], marker='^', ls='', label= '$\\Delta= 10^{-3}$', ms = 8, mew = 2)\n",
    "ax.set_yscale('log')\n",
    "ax.set_xscale('log')\n",
    "ax.set_xlabel(r'$t = \\frac{\\nu}{d}$', fontsize= 25)\n",
    "ax.set_ylabel(r'${\\cal R}$', fontsize= 25)\n",
    "ax.legend(fontsize=16, loc=3)\n",
    "ax.tick_params(axis='y', labelsize=16)\n",
    "ax.tick_params(axis='x', labelsize=16)\n",
    "ax.grid(True)\n",
    "plt.show()"
   ]
  },
  {
   "cell_type": "code",
   "execution_count": null,
   "metadata": {},
   "outputs": [],
   "source": []
  }
 ],
 "metadata": {
  "kernelspec": {
   "display_name": "Python 3.8.5 64-bit ('anaconda3': virtualenv)",
   "language": "python",
   "name": "python385jvsc74a57bd055f1c31c9ec88ecd0138ba008a06445b3495182e663e08d0be129519e756f673"
  },
  "language_info": {
   "codemirror_mode": {
    "name": "ipython",
    "version": 3
   },
   "file_extension": ".py",
   "mimetype": "text/x-python",
   "name": "python",
   "nbconvert_exporter": "python",
   "pygments_lexer": "ipython3",
   "version": "3.8.5"
  }
 },
 "nbformat": 4,
 "nbformat_minor": 4
}
